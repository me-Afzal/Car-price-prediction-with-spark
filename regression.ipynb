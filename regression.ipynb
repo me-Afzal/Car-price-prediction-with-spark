{
 "cells": [
  {
   "cell_type": "markdown",
   "id": "081b167b",
   "metadata": {},
   "source": [
    "# Import Libraries"
   ]
  },
  {
   "cell_type": "code",
   "execution_count": 1,
   "id": "b279e098",
   "metadata": {},
   "outputs": [],
   "source": [
    "from pyspark.sql import SparkSession\n",
    "from pyspark.sql.functions import col, sum as spark_sum,when\n",
    "from pyspark.ml.functions import vector_to_array\n",
    "from pyspark.ml.feature import MinMaxScaler,VectorAssembler,StringIndexer,OneHotEncoder\n",
    "from pyspark.ml.regression import LinearRegression,DecisionTreeRegressor,RandomForestRegressor\n",
    "from xgboost.spark import SparkXGBRegressor\n",
    "from pyspark.ml.evaluation import RegressionEvaluator\n",
    "from pyspark.sql.functions import udf\n",
    "from pyspark.sql.types import IntegerType,DoubleType,StringType"
   ]
  },
  {
   "cell_type": "markdown",
   "id": "ce577a4f",
   "metadata": {},
   "source": [
    "# Create Spark session"
   ]
  },
  {
   "cell_type": "code",
   "execution_count": 2,
   "id": "80108a58",
   "metadata": {},
   "outputs": [],
   "source": [
    "import os\n",
    "import sys\n",
    "\n",
    "os.environ[\"PYSPARK_PYTHON\"] = sys.executable\n",
    "os.environ[\"PYSPARK_DRIVER_PYTHON\"] = sys.executable\n",
    "\n",
    "spark = SparkSession.builder \\\n",
    "    .appName(\"Regression\") \\\n",
    "    .master(\"local[*]\") \\\n",
    "    .config(\"spark.driver.host\", \"localhost\") \\\n",
    "    .config(\"spark.driver.bindAddress\", \"localhost\") \\\n",
    "    .config(\"spark.hadoop.fs.file.impl\", \"org.apache.hadoop.fs.LocalFileSystem\") \\\n",
    "    .getOrCreate()"
   ]
  },
  {
   "cell_type": "markdown",
   "id": "a2331641",
   "metadata": {},
   "source": [
    "# Load Dataset"
   ]
  },
  {
   "cell_type": "code",
   "execution_count": 3,
   "id": "05cc2537",
   "metadata": {},
   "outputs": [
    {
     "name": "stdout",
     "output_type": "stream",
     "text": [
      "+------+---------+--------------------+--------+----------+----------+-----------+----------+--------------+---------+---------+--------+---------+----------+----------+--------------+----------+----------+---------+------+----------------+----------+-------+-------+----------+---------+\n",
      "|car_ID|symboling|             CarName|fueltype|aspiration|doornumber|    carbody|drivewheel|enginelocation|wheelbase|carlength|carwidth|carheight|curbweight|enginetype|cylindernumber|enginesize|fuelsystem|boreratio|stroke|compressionratio|horsepower|peakrpm|citympg|highwaympg|    price|\n",
      "+------+---------+--------------------+--------+----------+----------+-----------+----------+--------------+---------+---------+--------+---------+----------+----------+--------------+----------+----------+---------+------+----------------+----------+-------+-------+----------+---------+\n",
      "|     1|        3|  alfa-romero giulia|     gas|       std|       two|convertible|       rwd|         front|     88.6|    168.8|    64.1|     48.8|      2548|      dohc|          four|       130|      mpfi|     3.47|  2.68|             9.0|       111|   5000|     21|        27|  13495.0|\n",
      "|     2|        3| alfa-romero stelvio|     gas|       std|       two|convertible|       rwd|         front|     88.6|    168.8|    64.1|     48.8|      2548|      dohc|          four|       130|      mpfi|     3.47|  2.68|             9.0|       111|   5000|     21|        27|  16500.0|\n",
      "|     3|        1|alfa-romero Quadr...|     gas|       std|       two|  hatchback|       rwd|         front|     94.5|    171.2|    65.5|     52.4|      2823|      ohcv|           six|       152|      mpfi|     2.68|  3.47|             9.0|       154|   5000|     19|        26|  16500.0|\n",
      "|     4|        2|         audi 100 ls|     gas|       std|      four|      sedan|       fwd|         front|     99.8|    176.6|    66.2|     54.3|      2337|       ohc|          four|       109|      mpfi|     3.19|   3.4|            10.0|       102|   5500|     24|        30|  13950.0|\n",
      "|     5|        2|          audi 100ls|     gas|       std|      four|      sedan|       4wd|         front|     99.4|    176.6|    66.4|     54.3|      2824|       ohc|          five|       136|      mpfi|     3.19|   3.4|             8.0|       115|   5500|     18|        22|  17450.0|\n",
      "|     6|        2|            audi fox|     gas|       std|       two|      sedan|       fwd|         front|     99.8|    177.3|    66.3|     53.1|      2507|       ohc|          five|       136|      mpfi|     3.19|   3.4|             8.5|       110|   5500|     19|        25|  15250.0|\n",
      "|     7|        1|          audi 100ls|     gas|       std|      four|      sedan|       fwd|         front|    105.8|    192.7|    71.4|     55.7|      2844|       ohc|          five|       136|      mpfi|     3.19|   3.4|             8.5|       110|   5500|     19|        25|  17710.0|\n",
      "|     8|        1|           audi 5000|     gas|       std|      four|      wagon|       fwd|         front|    105.8|    192.7|    71.4|     55.7|      2954|       ohc|          five|       136|      mpfi|     3.19|   3.4|             8.5|       110|   5500|     19|        25|  18920.0|\n",
      "|     9|        1|           audi 4000|     gas|     turbo|      four|      sedan|       fwd|         front|    105.8|    192.7|    71.4|     55.9|      3086|       ohc|          five|       131|      mpfi|     3.13|   3.4|             8.3|       140|   5500|     17|        20|  23875.0|\n",
      "|    10|        0| audi 5000s (diesel)|     gas|     turbo|       two|  hatchback|       4wd|         front|     99.5|    178.2|    67.9|     52.0|      3053|       ohc|          five|       131|      mpfi|     3.13|   3.4|             7.0|       160|   5500|     16|        22|17859.167|\n",
      "|    11|        2|            bmw 320i|     gas|       std|       two|      sedan|       rwd|         front|    101.2|    176.8|    64.8|     54.3|      2395|       ohc|          four|       108|      mpfi|      3.5|   2.8|             8.8|       101|   5800|     23|        29|  16430.0|\n",
      "|    12|        0|            bmw 320i|     gas|       std|      four|      sedan|       rwd|         front|    101.2|    176.8|    64.8|     54.3|      2395|       ohc|          four|       108|      mpfi|      3.5|   2.8|             8.8|       101|   5800|     23|        29|  16925.0|\n",
      "|    13|        0|              bmw x1|     gas|       std|       two|      sedan|       rwd|         front|    101.2|    176.8|    64.8|     54.3|      2710|       ohc|           six|       164|      mpfi|     3.31|  3.19|             9.0|       121|   4250|     21|        28|  20970.0|\n",
      "|    14|        0|              bmw x3|     gas|       std|      four|      sedan|       rwd|         front|    101.2|    176.8|    64.8|     54.3|      2765|       ohc|           six|       164|      mpfi|     3.31|  3.19|             9.0|       121|   4250|     21|        28|  21105.0|\n",
      "|    15|        1|              bmw z4|     gas|       std|      four|      sedan|       rwd|         front|    103.5|    189.0|    66.9|     55.7|      3055|       ohc|           six|       164|      mpfi|     3.31|  3.19|             9.0|       121|   4250|     20|        25|  24565.0|\n",
      "|    16|        0|              bmw x4|     gas|       std|      four|      sedan|       rwd|         front|    103.5|    189.0|    66.9|     55.7|      3230|       ohc|           six|       209|      mpfi|     3.62|  3.39|             8.0|       182|   5400|     16|        22|  30760.0|\n",
      "|    17|        0|              bmw x5|     gas|       std|       two|      sedan|       rwd|         front|    103.5|    193.8|    67.9|     53.7|      3380|       ohc|           six|       209|      mpfi|     3.62|  3.39|             8.0|       182|   5400|     16|        22|  41315.0|\n",
      "|    18|        0|              bmw x3|     gas|       std|      four|      sedan|       rwd|         front|    110.0|    197.0|    70.9|     56.3|      3505|       ohc|           six|       209|      mpfi|     3.62|  3.39|             8.0|       182|   5400|     15|        20|  36880.0|\n",
      "|    19|        2|    chevrolet impala|     gas|       std|       two|  hatchback|       fwd|         front|     88.4|    141.1|    60.3|     53.2|      1488|         l|         three|        61|      2bbl|     2.91|  3.03|             9.5|        48|   5100|     47|        53|   5151.0|\n",
      "|    20|        1|chevrolet monte c...|     gas|       std|       two|  hatchback|       fwd|         front|     94.5|    155.9|    63.6|     52.0|      1874|       ohc|          four|        90|      2bbl|     3.03|  3.11|             9.6|        70|   5400|     38|        43|   6295.0|\n",
      "+------+---------+--------------------+--------+----------+----------+-----------+----------+--------------+---------+---------+--------+---------+----------+----------+--------------+----------+----------+---------+------+----------------+----------+-------+-------+----------+---------+\n",
      "only showing top 20 rows\n",
      "\n"
     ]
    }
   ],
   "source": [
    "df=spark.read.csv('CarPrice_Assignment.csv',header=True,inferSchema=True)\n",
    "df.show()"
   ]
  },
  {
   "cell_type": "markdown",
   "id": "6eb4c3a2",
   "metadata": {},
   "source": [
    "# Find unique values of each categorical column"
   ]
  },
  {
   "cell_type": "code",
   "execution_count": 4,
   "id": "22de9c9d",
   "metadata": {},
   "outputs": [
    {
     "name": "stdout",
     "output_type": "stream",
     "text": [
      "+--------+\n",
      "|fueltype|\n",
      "+--------+\n",
      "|     gas|\n",
      "|  diesel|\n",
      "+--------+\n",
      "\n",
      "+----------+\n",
      "|aspiration|\n",
      "+----------+\n",
      "|       std|\n",
      "|     turbo|\n",
      "+----------+\n",
      "\n",
      "+----------+\n",
      "|doornumber|\n",
      "+----------+\n",
      "|       two|\n",
      "|      four|\n",
      "+----------+\n",
      "\n",
      "+-----------+\n",
      "|    carbody|\n",
      "+-----------+\n",
      "|      wagon|\n",
      "|convertible|\n",
      "|      sedan|\n",
      "|  hatchback|\n",
      "|    hardtop|\n",
      "+-----------+\n",
      "\n",
      "+----------+\n",
      "|drivewheel|\n",
      "+----------+\n",
      "|       fwd|\n",
      "|       rwd|\n",
      "|       4wd|\n",
      "+----------+\n",
      "\n",
      "+--------------+\n",
      "|enginelocation|\n",
      "+--------------+\n",
      "|         front|\n",
      "|          rear|\n",
      "+--------------+\n",
      "\n",
      "+----------+\n",
      "|fuelsystem|\n",
      "+----------+\n",
      "|      1bbl|\n",
      "|      4bbl|\n",
      "|       mfi|\n",
      "|      2bbl|\n",
      "|      spfi|\n",
      "|       idi|\n",
      "|      spdi|\n",
      "|      mpfi|\n",
      "+----------+\n",
      "\n",
      "+----------+\n",
      "|enginetype|\n",
      "+----------+\n",
      "|     rotor|\n",
      "|         l|\n",
      "|       ohc|\n",
      "|      ohcf|\n",
      "|     dohcv|\n",
      "|      ohcv|\n",
      "|      dohc|\n",
      "+----------+\n",
      "\n",
      "+--------------+\n",
      "|cylindernumber|\n",
      "+--------------+\n",
      "|           two|\n",
      "|         eight|\n",
      "|          four|\n",
      "|        twelve|\n",
      "|           six|\n",
      "|         three|\n",
      "|          five|\n",
      "+--------------+\n",
      "\n"
     ]
    }
   ],
   "source": [
    "columns=['fueltype','aspiration','doornumber','carbody','drivewheel','enginelocation','fuelsystem','enginetype','cylindernumber']\n",
    "for c in columns: \n",
    "    df.select(c).distinct().show()\n"
   ]
  },
  {
   "cell_type": "markdown",
   "id": "5c390376",
   "metadata": {},
   "source": [
    "# Data preprocessing"
   ]
  },
  {
   "cell_type": "markdown",
   "id": "a1252e20",
   "metadata": {},
   "source": [
    "# Check Null values"
   ]
  },
  {
   "cell_type": "code",
   "execution_count": 5,
   "id": "bb960fcf",
   "metadata": {},
   "outputs": [
    {
     "name": "stdout",
     "output_type": "stream",
     "text": [
      "+------+---------+-------+--------+----------+----------+-------+----------+--------------+---------+---------+--------+---------+----------+----------+--------------+----------+----------+---------+------+----------------+----------+-------+-------+----------+-----+\n",
      "|car_ID|symboling|CarName|fueltype|aspiration|doornumber|carbody|drivewheel|enginelocation|wheelbase|carlength|carwidth|carheight|curbweight|enginetype|cylindernumber|enginesize|fuelsystem|boreratio|stroke|compressionratio|horsepower|peakrpm|citympg|highwaympg|price|\n",
      "+------+---------+-------+--------+----------+----------+-------+----------+--------------+---------+---------+--------+---------+----------+----------+--------------+----------+----------+---------+------+----------------+----------+-------+-------+----------+-----+\n",
      "|     0|        0|      0|       0|         0|         0|      0|         0|             0|        0|        0|       0|        0|         0|         0|             0|         0|         0|        0|     0|               0|         0|      0|      0|         0|    0|\n",
      "+------+---------+-------+--------+----------+----------+-------+----------+--------------+---------+---------+--------+---------+----------+----------+--------------+----------+----------+---------+------+----------------+----------+-------+-------+----------+-----+\n",
      "\n"
     ]
    }
   ],
   "source": [
    "null_counts = df.select([spark_sum(col(c).isNull().cast(\"int\")).alias(c) for c in df.columns])\n",
    "null_counts.show()\n"
   ]
  },
  {
   "cell_type": "markdown",
   "id": "27bab04b",
   "metadata": {},
   "source": [
    "# Check for duplicate records"
   ]
  },
  {
   "cell_type": "code",
   "execution_count": 6,
   "id": "0cc58d1f",
   "metadata": {},
   "outputs": [
    {
     "name": "stdout",
     "output_type": "stream",
     "text": [
      "+------+---------+-------+--------+----------+----------+-------+----------+--------------+---------+---------+--------+---------+----------+----------+--------------+----------+----------+---------+------+----------------+----------+-------+-------+----------+-----+-----+\n",
      "|car_ID|symboling|CarName|fueltype|aspiration|doornumber|carbody|drivewheel|enginelocation|wheelbase|carlength|carwidth|carheight|curbweight|enginetype|cylindernumber|enginesize|fuelsystem|boreratio|stroke|compressionratio|horsepower|peakrpm|citympg|highwaympg|price|count|\n",
      "+------+---------+-------+--------+----------+----------+-------+----------+--------------+---------+---------+--------+---------+----------+----------+--------------+----------+----------+---------+------+----------------+----------+-------+-------+----------+-----+-----+\n",
      "+------+---------+-------+--------+----------+----------+-------+----------+--------------+---------+---------+--------+---------+----------+----------+--------------+----------+----------+---------+------+----------------+----------+-------+-------+----------+-----+-----+\n",
      "\n"
     ]
    }
   ],
   "source": [
    "df.groupBy(df.columns).count().filter('count>1').show()"
   ]
  },
  {
   "cell_type": "markdown",
   "id": "bf79429a",
   "metadata": {},
   "source": [
    "# Feature Engineering"
   ]
  },
  {
   "cell_type": "code",
   "execution_count": 7,
   "id": "a64df333",
   "metadata": {},
   "outputs": [
    {
     "name": "stdout",
     "output_type": "stream",
     "text": [
      "+-----------+\n",
      "|      Brand|\n",
      "+-----------+\n",
      "|     jaguar|\n",
      "|      buick|\n",
      "| mitsubishi|\n",
      "|     toyota|\n",
      "|       saab|\n",
      "|         vw|\n",
      "|    peugeot|\n",
      "|   plymouth|\n",
      "|  vokswagen|\n",
      "|       audi|\n",
      "|alfa-romero|\n",
      "|        bmw|\n",
      "|      dodge|\n",
      "|    toyouta|\n",
      "|      maxda|\n",
      "|      mazda|\n",
      "|      isuzu|\n",
      "|    porsche|\n",
      "|  chevrolet|\n",
      "|      honda|\n",
      "| volkswagen|\n",
      "|    mercury|\n",
      "|   porcshce|\n",
      "|    renault|\n",
      "|     nissan|\n",
      "|     subaru|\n",
      "|     Nissan|\n",
      "|      volvo|\n",
      "+-----------+\n",
      "\n"
     ]
    }
   ],
   "source": [
    "def carNameExtracter(name):\n",
    "    name=name.split()[0]\n",
    "    return name\n",
    "carNameExtracterUdf=udf(carNameExtracter,StringType())\n",
    "\n",
    "df=df.withColumn('Brand',carNameExtracterUdf(col('CarName')))\n",
    "df.select('Brand').distinct().show(28)"
   ]
  },
  {
   "cell_type": "code",
   "execution_count": 8,
   "id": "2499d3f0",
   "metadata": {},
   "outputs": [
    {
     "name": "stdout",
     "output_type": "stream",
     "text": [
      "['jaguar', 'buick', 'mitsubishi', 'toyota', 'saab', 'vw', 'peugeot', 'plymouth', 'vokswagen', 'audi', 'alfa-romero', 'bmw', 'dodge', 'toyouta', 'maxda', 'mazda', 'isuzu', 'porsche', 'chevrolet', 'honda', 'volkswagen', 'mercury', 'porcshce', 'renault', 'nissan', 'subaru', 'Nissan', 'volvo']\n"
     ]
    }
   ],
   "source": [
    "brand_list = [row['Brand'] for row in df.select(\"Brand\").distinct().collect()]\n",
    "print(brand_list)"
   ]
  },
  {
   "cell_type": "markdown",
   "id": "51d0c486",
   "metadata": {},
   "source": [
    "# Transformation"
   ]
  },
  {
   "cell_type": "markdown",
   "id": "100b6bc9",
   "metadata": {},
   "source": [
    "## Encoding Categorical columns "
   ]
  },
  {
   "cell_type": "code",
   "execution_count": 9,
   "id": "5d728d2a",
   "metadata": {},
   "outputs": [],
   "source": [
    "string_idxr=StringIndexer(inputCols=['fueltype','aspiration','carbody',\n",
    "                                     'drivewheel','enginelocation','enginetype','fuelsystem','Brand'],\n",
    "                          outputCols=['enc_fueltype','enc_aspiration','enc_carbody',\n",
    "                                      'enc_drivewheel','enc_enginelocation','enc_enginetype',\n",
    "                                      'enc_fuelsystem','enc_brand'])\n",
    "string_idxr=string_idxr.fit(df)\n",
    "df=string_idxr.transform(df)"
   ]
  },
  {
   "cell_type": "code",
   "execution_count": 11,
   "id": "daece22c",
   "metadata": {},
   "outputs": [
    {
     "name": "stdout",
     "output_type": "stream",
     "text": [
      "+------+---------+--------------------+--------+----------+----------+-----------+----------+--------------+---------+---------+--------+---------+----------+----------+--------------+----------+----------+---------+------+----------------+----------+-------+-------+----------+---------+-----------+------------+--------------+-----------+--------------+------------------+--------------+--------------+---------+\n",
      "|car_ID|symboling|             CarName|fueltype|aspiration|doornumber|    carbody|drivewheel|enginelocation|wheelbase|carlength|carwidth|carheight|curbweight|enginetype|cylindernumber|enginesize|fuelsystem|boreratio|stroke|compressionratio|horsepower|peakrpm|citympg|highwaympg|    price|      Brand|enc_fueltype|enc_aspiration|enc_carbody|enc_drivewheel|enc_enginelocation|enc_enginetype|enc_fuelsystem|enc_brand|\n",
      "+------+---------+--------------------+--------+----------+----------+-----------+----------+--------------+---------+---------+--------+---------+----------+----------+--------------+----------+----------+---------+------+----------------+----------+-------+-------+----------+---------+-----------+------------+--------------+-----------+--------------+------------------+--------------+--------------+---------+\n",
      "|     1|        3|  alfa-romero giulia|     gas|       std|       two|convertible|       rwd|         front|     88.6|    168.8|    64.1|     48.8|      2548|      dohc|          four|       130|      mpfi|     3.47|  2.68|             9.0|       111|   5000|     21|        27|  13495.0|alfa-romero|         0.0|           0.0|        4.0|           1.0|               0.0|           3.0|           0.0|     17.0|\n",
      "|     2|        3| alfa-romero stelvio|     gas|       std|       two|convertible|       rwd|         front|     88.6|    168.8|    64.1|     48.8|      2548|      dohc|          four|       130|      mpfi|     3.47|  2.68|             9.0|       111|   5000|     21|        27|  16500.0|alfa-romero|         0.0|           0.0|        4.0|           1.0|               0.0|           3.0|           0.0|     17.0|\n",
      "|     3|        1|alfa-romero Quadr...|     gas|       std|       two|  hatchback|       rwd|         front|     94.5|    171.2|    65.5|     52.4|      2823|      ohcv|           six|       152|      mpfi|     2.68|  3.47|             9.0|       154|   5000|     19|        26|  16500.0|alfa-romero|         0.0|           0.0|        1.0|           1.0|               0.0|           2.0|           0.0|     17.0|\n",
      "|     4|        2|         audi 100 ls|     gas|       std|      four|      sedan|       fwd|         front|     99.8|    176.6|    66.2|     54.3|      2337|       ohc|          four|       109|      mpfi|     3.19|   3.4|            10.0|       102|   5500|     24|        30|  13950.0|       audi|         0.0|           0.0|        0.0|           0.0|               0.0|           0.0|           0.0|     12.0|\n",
      "|     5|        2|          audi 100ls|     gas|       std|      four|      sedan|       4wd|         front|     99.4|    176.6|    66.4|     54.3|      2824|       ohc|          five|       136|      mpfi|     3.19|   3.4|             8.0|       115|   5500|     18|        22|  17450.0|       audi|         0.0|           0.0|        0.0|           2.0|               0.0|           0.0|           0.0|     12.0|\n",
      "|     6|        2|            audi fox|     gas|       std|       two|      sedan|       fwd|         front|     99.8|    177.3|    66.3|     53.1|      2507|       ohc|          five|       136|      mpfi|     3.19|   3.4|             8.5|       110|   5500|     19|        25|  15250.0|       audi|         0.0|           0.0|        0.0|           0.0|               0.0|           0.0|           0.0|     12.0|\n",
      "|     7|        1|          audi 100ls|     gas|       std|      four|      sedan|       fwd|         front|    105.8|    192.7|    71.4|     55.7|      2844|       ohc|          five|       136|      mpfi|     3.19|   3.4|             8.5|       110|   5500|     19|        25|  17710.0|       audi|         0.0|           0.0|        0.0|           0.0|               0.0|           0.0|           0.0|     12.0|\n",
      "|     8|        1|           audi 5000|     gas|       std|      four|      wagon|       fwd|         front|    105.8|    192.7|    71.4|     55.7|      2954|       ohc|          five|       136|      mpfi|     3.19|   3.4|             8.5|       110|   5500|     19|        25|  18920.0|       audi|         0.0|           0.0|        2.0|           0.0|               0.0|           0.0|           0.0|     12.0|\n",
      "|     9|        1|           audi 4000|     gas|     turbo|      four|      sedan|       fwd|         front|    105.8|    192.7|    71.4|     55.9|      3086|       ohc|          five|       131|      mpfi|     3.13|   3.4|             8.3|       140|   5500|     17|        20|  23875.0|       audi|         0.0|           1.0|        0.0|           0.0|               0.0|           0.0|           0.0|     12.0|\n",
      "|    10|        0| audi 5000s (diesel)|     gas|     turbo|       two|  hatchback|       4wd|         front|     99.5|    178.2|    67.9|     52.0|      3053|       ohc|          five|       131|      mpfi|     3.13|   3.4|             7.0|       160|   5500|     16|        22|17859.167|       audi|         0.0|           1.0|        1.0|           2.0|               0.0|           0.0|           0.0|     12.0|\n",
      "|    11|        2|            bmw 320i|     gas|       std|       two|      sedan|       rwd|         front|    101.2|    176.8|    64.8|     54.3|      2395|       ohc|          four|       108|      mpfi|      3.5|   2.8|             8.8|       101|   5800|     23|        29|  16430.0|        bmw|         0.0|           0.0|        0.0|           1.0|               0.0|           0.0|           0.0|     10.0|\n",
      "|    12|        0|            bmw 320i|     gas|       std|      four|      sedan|       rwd|         front|    101.2|    176.8|    64.8|     54.3|      2395|       ohc|          four|       108|      mpfi|      3.5|   2.8|             8.8|       101|   5800|     23|        29|  16925.0|        bmw|         0.0|           0.0|        0.0|           1.0|               0.0|           0.0|           0.0|     10.0|\n",
      "|    13|        0|              bmw x1|     gas|       std|       two|      sedan|       rwd|         front|    101.2|    176.8|    64.8|     54.3|      2710|       ohc|           six|       164|      mpfi|     3.31|  3.19|             9.0|       121|   4250|     21|        28|  20970.0|        bmw|         0.0|           0.0|        0.0|           1.0|               0.0|           0.0|           0.0|     10.0|\n",
      "|    14|        0|              bmw x3|     gas|       std|      four|      sedan|       rwd|         front|    101.2|    176.8|    64.8|     54.3|      2765|       ohc|           six|       164|      mpfi|     3.31|  3.19|             9.0|       121|   4250|     21|        28|  21105.0|        bmw|         0.0|           0.0|        0.0|           1.0|               0.0|           0.0|           0.0|     10.0|\n",
      "|    15|        1|              bmw z4|     gas|       std|      four|      sedan|       rwd|         front|    103.5|    189.0|    66.9|     55.7|      3055|       ohc|           six|       164|      mpfi|     3.31|  3.19|             9.0|       121|   4250|     20|        25|  24565.0|        bmw|         0.0|           0.0|        0.0|           1.0|               0.0|           0.0|           0.0|     10.0|\n",
      "|    16|        0|              bmw x4|     gas|       std|      four|      sedan|       rwd|         front|    103.5|    189.0|    66.9|     55.7|      3230|       ohc|           six|       209|      mpfi|     3.62|  3.39|             8.0|       182|   5400|     16|        22|  30760.0|        bmw|         0.0|           0.0|        0.0|           1.0|               0.0|           0.0|           0.0|     10.0|\n",
      "|    17|        0|              bmw x5|     gas|       std|       two|      sedan|       rwd|         front|    103.5|    193.8|    67.9|     53.7|      3380|       ohc|           six|       209|      mpfi|     3.62|  3.39|             8.0|       182|   5400|     16|        22|  41315.0|        bmw|         0.0|           0.0|        0.0|           1.0|               0.0|           0.0|           0.0|     10.0|\n",
      "|    18|        0|              bmw x3|     gas|       std|      four|      sedan|       rwd|         front|    110.0|    197.0|    70.9|     56.3|      3505|       ohc|           six|       209|      mpfi|     3.62|  3.39|             8.0|       182|   5400|     15|        20|  36880.0|        bmw|         0.0|           0.0|        0.0|           1.0|               0.0|           0.0|           0.0|     10.0|\n",
      "|    19|        2|    chevrolet impala|     gas|       std|       two|  hatchback|       fwd|         front|     88.4|    141.1|    60.3|     53.2|      1488|         l|         three|        61|      2bbl|     2.91|  3.03|             9.5|        48|   5100|     47|        53|   5151.0|  chevrolet|         0.0|           0.0|        1.0|           0.0|               0.0|           4.0|           1.0|     18.0|\n",
      "|    20|        1|chevrolet monte c...|     gas|       std|       two|  hatchback|       fwd|         front|     94.5|    155.9|    63.6|     52.0|      1874|       ohc|          four|        90|      2bbl|     3.03|  3.11|             9.6|        70|   5400|     38|        43|   6295.0|  chevrolet|         0.0|           0.0|        1.0|           0.0|               0.0|           0.0|           1.0|     18.0|\n",
      "+------+---------+--------------------+--------+----------+----------+-----------+----------+--------------+---------+---------+--------+---------+----------+----------+--------------+----------+----------+---------+------+----------------+----------+-------+-------+----------+---------+-----------+------------+--------------+-----------+--------------+------------------+--------------+--------------+---------+\n",
      "only showing top 20 rows\n",
      "\n"
     ]
    }
   ],
   "source": [
    "df.show()"
   ]
  },
  {
   "cell_type": "code",
   "execution_count": 12,
   "id": "9e3c81e3",
   "metadata": {},
   "outputs": [],
   "source": [
    "def cylinder_num (num):\n",
    "    if num=='two':\n",
    "        return 2\n",
    "    elif num=='three':\n",
    "        return 3\n",
    "    elif num=='four':\n",
    "        return 4\n",
    "    elif num=='five':\n",
    "        return 5\n",
    "    elif num=='six':\n",
    "        return 6\n",
    "    elif num== 'eight':\n",
    "        return 8\n",
    "    elif num== 'twelve':\n",
    "        return 12\n",
    "    else:\n",
    "        return 0\n",
    "    \n",
    "def door_num(num):\n",
    "    if num=='two':\n",
    "        return 2\n",
    "    elif num=='four':\n",
    "        return 4    \n",
    "\n",
    "cylinder_num_udf=udf(cylinder_num,IntegerType())\n",
    "door_num_udf=udf(door_num,IntegerType())\n",
    "\n",
    "df=df.withColumn('cylinder_num',cylinder_num_udf(col('cylindernumber')))\n",
    "df=df.withColumn('doornumber',cylinder_num_udf(col('doornumber')))  \n",
    "    \n"
   ]
  },
  {
   "cell_type": "code",
   "execution_count": 13,
   "id": "1dfa9a72",
   "metadata": {},
   "outputs": [],
   "source": [
    "oh_encoder=OneHotEncoder(inputCols=['enc_carbody','enc_fuelsystem','enc_enginetype','enc_brand'],\n",
    "                         outputCols=['oh_carbody','oh_fuelsystem','oh_enginetype','oh_brand'])\n",
    "oh_encoder=oh_encoder.fit(df)\n",
    "df=oh_encoder.transform(df)"
   ]
  },
  {
   "cell_type": "markdown",
   "id": "8a91caed",
   "metadata": {},
   "source": [
    "## After encoding, removing unwanted columns"
   ]
  },
  {
   "cell_type": "code",
   "execution_count": 14,
   "id": "de7a6ded",
   "metadata": {},
   "outputs": [
    {
     "name": "stdout",
     "output_type": "stream",
     "text": [
      "+----------+---------+---------+--------+---------+----------+----------+---------+------+----------------+----------+-------+-------+----------+---------+-----------+------------+--------------+--------------+------------------+------------+-------------+-------------+-------------+---------------+\n",
      "|doornumber|wheelbase|carlength|carwidth|carheight|curbweight|enginesize|boreratio|stroke|compressionratio|horsepower|peakrpm|citympg|highwaympg|    price|      Brand|enc_fueltype|enc_aspiration|enc_drivewheel|enc_enginelocation|cylinder_num|   oh_carbody|oh_fuelsystem|oh_enginetype|       oh_brand|\n",
      "+----------+---------+---------+--------+---------+----------+----------+---------+------+----------------+----------+-------+-------+----------+---------+-----------+------------+--------------+--------------+------------------+------------+-------------+-------------+-------------+---------------+\n",
      "|         2|     88.6|    168.8|    64.1|     48.8|      2548|       130|     3.47|  2.68|             9.0|       111|   5000|     21|        27|  13495.0|alfa-romero|         0.0|           0.0|           1.0|               0.0|           4|    (4,[],[])|(7,[0],[1.0])|(6,[3],[1.0])|(27,[17],[1.0])|\n",
      "|         2|     88.6|    168.8|    64.1|     48.8|      2548|       130|     3.47|  2.68|             9.0|       111|   5000|     21|        27|  16500.0|alfa-romero|         0.0|           0.0|           1.0|               0.0|           4|    (4,[],[])|(7,[0],[1.0])|(6,[3],[1.0])|(27,[17],[1.0])|\n",
      "|         2|     94.5|    171.2|    65.5|     52.4|      2823|       152|     2.68|  3.47|             9.0|       154|   5000|     19|        26|  16500.0|alfa-romero|         0.0|           0.0|           1.0|               0.0|           6|(4,[1],[1.0])|(7,[0],[1.0])|(6,[2],[1.0])|(27,[17],[1.0])|\n",
      "|         4|     99.8|    176.6|    66.2|     54.3|      2337|       109|     3.19|   3.4|            10.0|       102|   5500|     24|        30|  13950.0|       audi|         0.0|           0.0|           0.0|               0.0|           4|(4,[0],[1.0])|(7,[0],[1.0])|(6,[0],[1.0])|(27,[12],[1.0])|\n",
      "|         4|     99.4|    176.6|    66.4|     54.3|      2824|       136|     3.19|   3.4|             8.0|       115|   5500|     18|        22|  17450.0|       audi|         0.0|           0.0|           2.0|               0.0|           5|(4,[0],[1.0])|(7,[0],[1.0])|(6,[0],[1.0])|(27,[12],[1.0])|\n",
      "|         2|     99.8|    177.3|    66.3|     53.1|      2507|       136|     3.19|   3.4|             8.5|       110|   5500|     19|        25|  15250.0|       audi|         0.0|           0.0|           0.0|               0.0|           5|(4,[0],[1.0])|(7,[0],[1.0])|(6,[0],[1.0])|(27,[12],[1.0])|\n",
      "|         4|    105.8|    192.7|    71.4|     55.7|      2844|       136|     3.19|   3.4|             8.5|       110|   5500|     19|        25|  17710.0|       audi|         0.0|           0.0|           0.0|               0.0|           5|(4,[0],[1.0])|(7,[0],[1.0])|(6,[0],[1.0])|(27,[12],[1.0])|\n",
      "|         4|    105.8|    192.7|    71.4|     55.7|      2954|       136|     3.19|   3.4|             8.5|       110|   5500|     19|        25|  18920.0|       audi|         0.0|           0.0|           0.0|               0.0|           5|(4,[2],[1.0])|(7,[0],[1.0])|(6,[0],[1.0])|(27,[12],[1.0])|\n",
      "|         4|    105.8|    192.7|    71.4|     55.9|      3086|       131|     3.13|   3.4|             8.3|       140|   5500|     17|        20|  23875.0|       audi|         0.0|           1.0|           0.0|               0.0|           5|(4,[0],[1.0])|(7,[0],[1.0])|(6,[0],[1.0])|(27,[12],[1.0])|\n",
      "|         2|     99.5|    178.2|    67.9|     52.0|      3053|       131|     3.13|   3.4|             7.0|       160|   5500|     16|        22|17859.167|       audi|         0.0|           1.0|           2.0|               0.0|           5|(4,[1],[1.0])|(7,[0],[1.0])|(6,[0],[1.0])|(27,[12],[1.0])|\n",
      "|         2|    101.2|    176.8|    64.8|     54.3|      2395|       108|      3.5|   2.8|             8.8|       101|   5800|     23|        29|  16430.0|        bmw|         0.0|           0.0|           1.0|               0.0|           4|(4,[0],[1.0])|(7,[0],[1.0])|(6,[0],[1.0])|(27,[10],[1.0])|\n",
      "|         4|    101.2|    176.8|    64.8|     54.3|      2395|       108|      3.5|   2.8|             8.8|       101|   5800|     23|        29|  16925.0|        bmw|         0.0|           0.0|           1.0|               0.0|           4|(4,[0],[1.0])|(7,[0],[1.0])|(6,[0],[1.0])|(27,[10],[1.0])|\n",
      "|         2|    101.2|    176.8|    64.8|     54.3|      2710|       164|     3.31|  3.19|             9.0|       121|   4250|     21|        28|  20970.0|        bmw|         0.0|           0.0|           1.0|               0.0|           6|(4,[0],[1.0])|(7,[0],[1.0])|(6,[0],[1.0])|(27,[10],[1.0])|\n",
      "|         4|    101.2|    176.8|    64.8|     54.3|      2765|       164|     3.31|  3.19|             9.0|       121|   4250|     21|        28|  21105.0|        bmw|         0.0|           0.0|           1.0|               0.0|           6|(4,[0],[1.0])|(7,[0],[1.0])|(6,[0],[1.0])|(27,[10],[1.0])|\n",
      "|         4|    103.5|    189.0|    66.9|     55.7|      3055|       164|     3.31|  3.19|             9.0|       121|   4250|     20|        25|  24565.0|        bmw|         0.0|           0.0|           1.0|               0.0|           6|(4,[0],[1.0])|(7,[0],[1.0])|(6,[0],[1.0])|(27,[10],[1.0])|\n",
      "|         4|    103.5|    189.0|    66.9|     55.7|      3230|       209|     3.62|  3.39|             8.0|       182|   5400|     16|        22|  30760.0|        bmw|         0.0|           0.0|           1.0|               0.0|           6|(4,[0],[1.0])|(7,[0],[1.0])|(6,[0],[1.0])|(27,[10],[1.0])|\n",
      "|         2|    103.5|    193.8|    67.9|     53.7|      3380|       209|     3.62|  3.39|             8.0|       182|   5400|     16|        22|  41315.0|        bmw|         0.0|           0.0|           1.0|               0.0|           6|(4,[0],[1.0])|(7,[0],[1.0])|(6,[0],[1.0])|(27,[10],[1.0])|\n",
      "|         4|    110.0|    197.0|    70.9|     56.3|      3505|       209|     3.62|  3.39|             8.0|       182|   5400|     15|        20|  36880.0|        bmw|         0.0|           0.0|           1.0|               0.0|           6|(4,[0],[1.0])|(7,[0],[1.0])|(6,[0],[1.0])|(27,[10],[1.0])|\n",
      "|         2|     88.4|    141.1|    60.3|     53.2|      1488|        61|     2.91|  3.03|             9.5|        48|   5100|     47|        53|   5151.0|  chevrolet|         0.0|           0.0|           0.0|               0.0|           3|(4,[1],[1.0])|(7,[1],[1.0])|(6,[4],[1.0])|(27,[18],[1.0])|\n",
      "|         2|     94.5|    155.9|    63.6|     52.0|      1874|        90|     3.03|  3.11|             9.6|        70|   5400|     38|        43|   6295.0|  chevrolet|         0.0|           0.0|           0.0|               0.0|           4|(4,[1],[1.0])|(7,[1],[1.0])|(6,[0],[1.0])|(27,[18],[1.0])|\n",
      "+----------+---------+---------+--------+---------+----------+----------+---------+------+----------------+----------+-------+-------+----------+---------+-----------+------------+--------------+--------------+------------------+------------+-------------+-------------+-------------+---------------+\n",
      "only showing top 20 rows\n",
      "\n"
     ]
    }
   ],
   "source": [
    "df=df.drop('fueltype','aspiration','carbody',\n",
    "          'drivewheel','enginelocation','enginetype','cylindernumber',\n",
    "          'CarName','symboling','car_ID','fuelsystem',\n",
    "          'enc_carbody','enc_fuelsystem','enc_enginetype','enc_brand')\n",
    "df.show()"
   ]
  },
  {
   "cell_type": "markdown",
   "id": "fff721fb",
   "metadata": {},
   "source": [
    "## Assembling for numerical features scaling"
   ]
  },
  {
   "cell_type": "code",
   "execution_count": 15,
   "id": "36fa8c58",
   "metadata": {},
   "outputs": [
    {
     "name": "stdout",
     "output_type": "stream",
     "text": [
      "+----------+---------+---------+--------+---------+----------+----------+---------+------+----------------+----------+-------+-------+----------+---------+-----------+------------+--------------+--------------+------------------+------------+-------------+-------------+-------------+---------------+--------------------+-------------+\n",
      "|doornumber|wheelbase|carlength|carwidth|carheight|curbweight|enginesize|boreratio|stroke|compressionratio|horsepower|peakrpm|citympg|highwaympg|    price|      Brand|enc_fueltype|enc_aspiration|enc_drivewheel|enc_enginelocation|cylinder_num|   oh_carbody|oh_fuelsystem|oh_enginetype|       oh_brand|       scale_input_x|scale_input_y|\n",
      "+----------+---------+---------+--------+---------+----------+----------+---------+------+----------------+----------+-------+-------+----------+---------+-----------+------------+--------------+--------------+------------------+------------+-------------+-------------+-------------+---------------+--------------------+-------------+\n",
      "|         2|     88.6|    168.8|    64.1|     48.8|      2548|       130|     3.47|  2.68|             9.0|       111|   5000|     21|        27|  13495.0|alfa-romero|         0.0|           0.0|           1.0|               0.0|           4|    (4,[],[])|(7,[0],[1.0])|(6,[3],[1.0])|(27,[17],[1.0])|[88.6,168.8,64.1,...|    [13495.0]|\n",
      "|         2|     88.6|    168.8|    64.1|     48.8|      2548|       130|     3.47|  2.68|             9.0|       111|   5000|     21|        27|  16500.0|alfa-romero|         0.0|           0.0|           1.0|               0.0|           4|    (4,[],[])|(7,[0],[1.0])|(6,[3],[1.0])|(27,[17],[1.0])|[88.6,168.8,64.1,...|    [16500.0]|\n",
      "|         2|     94.5|    171.2|    65.5|     52.4|      2823|       152|     2.68|  3.47|             9.0|       154|   5000|     19|        26|  16500.0|alfa-romero|         0.0|           0.0|           1.0|               0.0|           6|(4,[1],[1.0])|(7,[0],[1.0])|(6,[2],[1.0])|(27,[17],[1.0])|[94.5,171.2,65.5,...|    [16500.0]|\n",
      "|         4|     99.8|    176.6|    66.2|     54.3|      2337|       109|     3.19|   3.4|            10.0|       102|   5500|     24|        30|  13950.0|       audi|         0.0|           0.0|           0.0|               0.0|           4|(4,[0],[1.0])|(7,[0],[1.0])|(6,[0],[1.0])|(27,[12],[1.0])|[99.8,176.6,66.2,...|    [13950.0]|\n",
      "|         4|     99.4|    176.6|    66.4|     54.3|      2824|       136|     3.19|   3.4|             8.0|       115|   5500|     18|        22|  17450.0|       audi|         0.0|           0.0|           2.0|               0.0|           5|(4,[0],[1.0])|(7,[0],[1.0])|(6,[0],[1.0])|(27,[12],[1.0])|[99.4,176.6,66.4,...|    [17450.0]|\n",
      "|         2|     99.8|    177.3|    66.3|     53.1|      2507|       136|     3.19|   3.4|             8.5|       110|   5500|     19|        25|  15250.0|       audi|         0.0|           0.0|           0.0|               0.0|           5|(4,[0],[1.0])|(7,[0],[1.0])|(6,[0],[1.0])|(27,[12],[1.0])|[99.8,177.3,66.3,...|    [15250.0]|\n",
      "|         4|    105.8|    192.7|    71.4|     55.7|      2844|       136|     3.19|   3.4|             8.5|       110|   5500|     19|        25|  17710.0|       audi|         0.0|           0.0|           0.0|               0.0|           5|(4,[0],[1.0])|(7,[0],[1.0])|(6,[0],[1.0])|(27,[12],[1.0])|[105.8,192.7,71.4...|    [17710.0]|\n",
      "|         4|    105.8|    192.7|    71.4|     55.7|      2954|       136|     3.19|   3.4|             8.5|       110|   5500|     19|        25|  18920.0|       audi|         0.0|           0.0|           0.0|               0.0|           5|(4,[2],[1.0])|(7,[0],[1.0])|(6,[0],[1.0])|(27,[12],[1.0])|[105.8,192.7,71.4...|    [18920.0]|\n",
      "|         4|    105.8|    192.7|    71.4|     55.9|      3086|       131|     3.13|   3.4|             8.3|       140|   5500|     17|        20|  23875.0|       audi|         0.0|           1.0|           0.0|               0.0|           5|(4,[0],[1.0])|(7,[0],[1.0])|(6,[0],[1.0])|(27,[12],[1.0])|[105.8,192.7,71.4...|    [23875.0]|\n",
      "|         2|     99.5|    178.2|    67.9|     52.0|      3053|       131|     3.13|   3.4|             7.0|       160|   5500|     16|        22|17859.167|       audi|         0.0|           1.0|           2.0|               0.0|           5|(4,[1],[1.0])|(7,[0],[1.0])|(6,[0],[1.0])|(27,[12],[1.0])|[99.5,178.2,67.9,...|  [17859.167]|\n",
      "|         2|    101.2|    176.8|    64.8|     54.3|      2395|       108|      3.5|   2.8|             8.8|       101|   5800|     23|        29|  16430.0|        bmw|         0.0|           0.0|           1.0|               0.0|           4|(4,[0],[1.0])|(7,[0],[1.0])|(6,[0],[1.0])|(27,[10],[1.0])|[101.2,176.8,64.8...|    [16430.0]|\n",
      "|         4|    101.2|    176.8|    64.8|     54.3|      2395|       108|      3.5|   2.8|             8.8|       101|   5800|     23|        29|  16925.0|        bmw|         0.0|           0.0|           1.0|               0.0|           4|(4,[0],[1.0])|(7,[0],[1.0])|(6,[0],[1.0])|(27,[10],[1.0])|[101.2,176.8,64.8...|    [16925.0]|\n",
      "|         2|    101.2|    176.8|    64.8|     54.3|      2710|       164|     3.31|  3.19|             9.0|       121|   4250|     21|        28|  20970.0|        bmw|         0.0|           0.0|           1.0|               0.0|           6|(4,[0],[1.0])|(7,[0],[1.0])|(6,[0],[1.0])|(27,[10],[1.0])|[101.2,176.8,64.8...|    [20970.0]|\n",
      "|         4|    101.2|    176.8|    64.8|     54.3|      2765|       164|     3.31|  3.19|             9.0|       121|   4250|     21|        28|  21105.0|        bmw|         0.0|           0.0|           1.0|               0.0|           6|(4,[0],[1.0])|(7,[0],[1.0])|(6,[0],[1.0])|(27,[10],[1.0])|[101.2,176.8,64.8...|    [21105.0]|\n",
      "|         4|    103.5|    189.0|    66.9|     55.7|      3055|       164|     3.31|  3.19|             9.0|       121|   4250|     20|        25|  24565.0|        bmw|         0.0|           0.0|           1.0|               0.0|           6|(4,[0],[1.0])|(7,[0],[1.0])|(6,[0],[1.0])|(27,[10],[1.0])|[103.5,189.0,66.9...|    [24565.0]|\n",
      "|         4|    103.5|    189.0|    66.9|     55.7|      3230|       209|     3.62|  3.39|             8.0|       182|   5400|     16|        22|  30760.0|        bmw|         0.0|           0.0|           1.0|               0.0|           6|(4,[0],[1.0])|(7,[0],[1.0])|(6,[0],[1.0])|(27,[10],[1.0])|[103.5,189.0,66.9...|    [30760.0]|\n",
      "|         2|    103.5|    193.8|    67.9|     53.7|      3380|       209|     3.62|  3.39|             8.0|       182|   5400|     16|        22|  41315.0|        bmw|         0.0|           0.0|           1.0|               0.0|           6|(4,[0],[1.0])|(7,[0],[1.0])|(6,[0],[1.0])|(27,[10],[1.0])|[103.5,193.8,67.9...|    [41315.0]|\n",
      "|         4|    110.0|    197.0|    70.9|     56.3|      3505|       209|     3.62|  3.39|             8.0|       182|   5400|     15|        20|  36880.0|        bmw|         0.0|           0.0|           1.0|               0.0|           6|(4,[0],[1.0])|(7,[0],[1.0])|(6,[0],[1.0])|(27,[10],[1.0])|[110.0,197.0,70.9...|    [36880.0]|\n",
      "|         2|     88.4|    141.1|    60.3|     53.2|      1488|        61|     2.91|  3.03|             9.5|        48|   5100|     47|        53|   5151.0|  chevrolet|         0.0|           0.0|           0.0|               0.0|           3|(4,[1],[1.0])|(7,[1],[1.0])|(6,[4],[1.0])|(27,[18],[1.0])|[88.4,141.1,60.3,...|     [5151.0]|\n",
      "|         2|     94.5|    155.9|    63.6|     52.0|      1874|        90|     3.03|  3.11|             9.6|        70|   5400|     38|        43|   6295.0|  chevrolet|         0.0|           0.0|           0.0|               0.0|           4|(4,[1],[1.0])|(7,[1],[1.0])|(6,[0],[1.0])|(27,[18],[1.0])|[94.5,155.9,63.6,...|     [6295.0]|\n",
      "+----------+---------+---------+--------+---------+----------+----------+---------+------+----------------+----------+-------+-------+----------+---------+-----------+------------+--------------+--------------+------------------+------------+-------------+-------------+-------------+---------------+--------------------+-------------+\n",
      "only showing top 20 rows\n",
      "\n"
     ]
    }
   ],
   "source": [
    "columns=['wheelbase','carlength','carwidth','carheight','curbweight','enginesize',\n",
    "         'boreratio','stroke','compressionratio','horsepower','peakrpm','citympg','highwaympg']\n",
    "\n",
    "assembler_x=VectorAssembler(inputCols=columns,outputCol='scale_input_x')\n",
    "df=assembler_x.transform(df)\n",
    "\n",
    "assembler_y=VectorAssembler(inputCols=['price'],outputCol='scale_input_y')\n",
    "df=assembler_y.transform(df)\n",
    "df.show()"
   ]
  },
  {
   "cell_type": "markdown",
   "id": "d7ba0c6b",
   "metadata": {},
   "source": [
    "# Train,Test split | scaling features"
   ]
  },
  {
   "cell_type": "code",
   "execution_count": 16,
   "id": "8ffe6594",
   "metadata": {},
   "outputs": [
    {
     "name": "stdout",
     "output_type": "stream",
     "text": [
      "+----------+---------+---------+--------+---------+----------+----------+---------+------+----------------+----------+-------+-------+----------+-------+-----------+------------+--------------+--------------+------------------+------------+-------------+-------------+-------------+---------------+--------------------+-------------+--------------------+--------------------+\n",
      "|doornumber|wheelbase|carlength|carwidth|carheight|curbweight|enginesize|boreratio|stroke|compressionratio|horsepower|peakrpm|citympg|highwaympg|  price|      Brand|enc_fueltype|enc_aspiration|enc_drivewheel|enc_enginelocation|cylinder_num|   oh_carbody|oh_fuelsystem|oh_enginetype|       oh_brand|       scale_input_x|scale_input_y|      scaled_feature|       scaled_target|\n",
      "+----------+---------+---------+--------+---------+----------+----------+---------+------+----------------+----------+-------+-------+----------+-------+-----------+------------+--------------+--------------+------------------+------------+-------------+-------------+-------------+---------------+--------------------+-------------+--------------------+--------------------+\n",
      "|         2|     86.6|    144.6|    63.9|     50.8|      1713|        92|     2.91|  3.41|             9.6|        58|   4800|     49|        54| 6479.0|      honda|         0.0|           0.0|           0.0|               0.0|           4|(4,[1],[1.0])|(7,[3],[1.0])|(6,[0],[1.0])| (27,[3],[1.0])|[86.6,144.6,63.9,...|     [6479.0]|[0.0,0.0569105691...|[0.03378680303857...|\n",
      "|         2|     88.4|    141.1|    60.3|     53.2|      1488|        61|     2.91|  3.03|             9.5|        48|   5100|     47|        53| 5151.0|  chevrolet|         0.0|           0.0|           0.0|               0.0|           3|(4,[1],[1.0])|(7,[1],[1.0])|(6,[4],[1.0])|(27,[18],[1.0])|[88.4,141.1,60.3,...|     [5151.0]|[0.06206896551724...|[8.19224467504096...|\n",
      "|         2|     88.6|    168.8|    64.1|     48.8|      2548|       130|     3.47|  2.68|             9.0|       111|   5000|     21|        27|13495.0|alfa-romero|         0.0|           0.0|           1.0|               0.0|           4|    (4,[],[])|(7,[0],[1.0])|(6,[3],[1.0])|(27,[17],[1.0])|[88.6,168.8,64.1,...|    [13495.0]|[0.06896551724137...|[0.20795888982672...|\n",
      "|         2|     88.6|    168.8|    64.1|     48.8|      2548|       130|     3.47|  2.68|             9.0|       111|   5000|     21|        27|16500.0|alfa-romero|         0.0|           0.0|           1.0|               0.0|           4|    (4,[],[])|(7,[0],[1.0])|(6,[3],[1.0])|(27,[17],[1.0])|[88.6,168.8,64.1,...|    [16500.0]|[0.06896551724137...|[0.2825579663373219]|\n",
      "|         2|     89.5|    168.9|    65.0|     51.6|      2756|       194|     3.74|   2.9|             9.5|       207|   5900|     17|        25|32528.0|   porcshce|         0.0|           0.0|           1.0|               1.0|           6|(4,[3],[1.0])|(7,[0],[1.0])|(6,[1],[1.0])|(27,[25],[1.0])|[89.5,168.9,65.0,...|    [32528.0]|[0.10000000000000...|[0.6804528077056751]|\n",
      "|         2|     89.5|    168.9|    65.0|     51.6|      2756|       194|     3.74|   2.9|             9.5|       207|   5900|     17|        25|34028.0|    porsche|         0.0|           0.0|           1.0|               1.0|           6|(4,[3],[1.0])|(7,[0],[1.0])|(6,[1],[1.0])|(27,[16],[1.0])|[89.5,168.9,65.0,...|    [34028.0]|[0.10000000000000...|[0.7176902835013158]|\n",
      "|         2|     89.5|    168.9|    65.0|     51.6|      2800|       194|     3.74|   2.9|             9.5|       207|   5900|     17|        25|37028.0|    porsche|         0.0|           0.0|           1.0|               1.0|           6|    (4,[],[])|(7,[0],[1.0])|(6,[1],[1.0])|(27,[16],[1.0])|[89.5,168.9,65.0,...|    [37028.0]|[0.10000000000000...|[0.7921652350925972]|\n",
      "|         2|     91.3|    170.7|    67.9|     49.7|      3071|       181|     3.43|  3.27|             9.0|       160|   5200|     19|        25|17199.0|     nissan|         0.0|           0.0|           1.0|               0.0|           6|(4,[1],[1.0])|(7,[0],[1.0])|(6,[2],[1.0])| (27,[1],[1.0])|[91.3,170.7,67.9,...|    [17199.0]|[0.16206896551724...|[0.2999106300580905]|\n",
      "|         2|     91.3|    170.7|    67.9|     49.7|      3139|       181|     3.43|  3.27|             7.8|       200|   5200|     17|        23|19699.0|     nissan|         0.0|           1.0|           1.0|               0.0|           6|(4,[1],[1.0])|(7,[0],[1.0])|(6,[2],[1.0])| (27,[1],[1.0])|[91.3,170.7,67.9,...|    [19699.0]|[0.16206896551724...|[0.3619730897174917]|\n",
      "|         2|     93.0|    157.3|    63.8|     50.8|      2145|        98|     3.03|  3.39|             7.6|       102|   5500|     24|        30| 7689.0| mitsubishi|         0.0|           1.0|           0.0|               0.0|           4|(4,[1],[1.0])|(7,[4],[1.0])|(6,[0],[1.0])| (27,[4],[1.0])|[93.0,157.3,63.8,...|     [7689.0]|[0.22068965517241...|[0.06382503351372...|\n",
      "|         2|     93.1|    159.1|    64.2|     54.1|      1905|        91|     3.03|  3.15|             9.0|        68|   5000|     31|        38| 6795.0|      mazda|         0.0|           0.0|           0.0|               0.0|           4|(4,[1],[1.0])|(7,[1],[1.0])|(6,[0],[1.0])| (27,[2],[1.0])|[93.1,159.1,64.2,...|     [6795.0]|[0.22413793103448...|[0.04163149793952...|\n",
      "|         2|     93.3|    157.3|    63.8|     55.7|      2240|       108|     3.62|  2.64|             8.7|        73|   4400|     26|        31| 7603.0|     subaru|         0.0|           0.0|           2.0|               0.0|           4|(4,[1],[1.0])|(7,[1],[1.0])|(6,[1],[1.0])| (27,[5],[1.0])|[93.3,157.3,63.8,...|     [7603.0]|[0.23103448275862...|[0.06169008490144...|\n",
      "|         2|     93.7|    150.0|    64.0|     52.6|      1940|        92|     2.91|  3.41|             9.2|        76|   6000|     30|        34| 6529.0|      honda|         0.0|           0.0|           0.0|               0.0|           4|(4,[1],[1.0])|(7,[3],[1.0])|(6,[0],[1.0])| (27,[3],[1.0])|[93.7,150.0,64.0,...|     [6529.0]|[0.24482758620689...|[0.03502805223176...|\n",
      "|         2|     93.7|    150.0|    64.0|     52.6|      1956|        92|     2.91|  3.41|             9.2|        76|   6000|     30|        34| 7129.0|      honda|         0.0|           0.0|           0.0|               0.0|           4|(4,[1],[1.0])|(7,[3],[1.0])|(6,[0],[1.0])| (27,[3],[1.0])|[93.7,150.0,64.0,...|     [7129.0]|[0.24482758620689...|[0.04992304255002...|\n",
      "|         2|     93.7|    156.9|    63.4|     53.7|      2050|        97|     3.62|  2.36|             9.0|        69|   4900|     31|        36| 5118.0|     subaru|         0.0|           0.0|           0.0|               0.0|           4|(4,[1],[1.0])|(7,[1],[1.0])|(6,[1],[1.0])| (27,[5],[1.0])|[93.7,156.9,63.4,...|     [5118.0]|[0.24482758620689...|               [0.0]|\n",
      "|         2|     93.7|    157.3|    63.8|     50.6|      2191|        98|     3.03|  3.39|             7.6|       102|   5500|     24|        30| 8558.0|      dodge|         0.0|           1.0|           0.0|               0.0|           4|(4,[0],[1.0])|(7,[0],[1.0])|(6,[0],[1.0])| (27,[8],[1.0])|[93.7,157.3,63.8,...|     [8558.0]|[0.24482758620689...|[0.08539794449133...|\n",
      "|         2|     93.7|    157.3|    63.8|     50.8|      1876|        90|     2.97|  3.23|             9.4|        68|   5500|     31|        38| 6377.0|      dodge|         0.0|           0.0|           0.0|               0.0|           4|(4,[1],[1.0])|(7,[1],[1.0])|(6,[0],[1.0])| (27,[8],[1.0])|[93.7,157.3,63.8,...|     [6377.0]|[0.24482758620689...|[0.03125465468447...|\n",
      "|         2|     93.7|    157.3|    63.8|     50.8|      1876|        90|     2.97|  3.23|            9.41|        68|   5500|     37|        41| 5572.0|      dodge|         0.0|           0.0|           0.0|               0.0|           4|(4,[1],[1.0])|(7,[1],[1.0])|(6,[0],[1.0])| (27,[8],[1.0])|[93.7,157.3,63.8,...|     [5572.0]|[0.24482758620689...|[0.01127054267414...|\n",
      "|         2|     93.7|    157.3|    63.8|     50.8|      1918|        90|     2.97|  3.23|             9.4|        68|   5500|     37|        41| 5572.0|   plymouth|         0.0|           0.0|           0.0|               0.0|           4|(4,[1],[1.0])|(7,[1],[1.0])|(6,[0],[1.0])|(27,[13],[1.0])|[93.7,157.3,63.8,...|     [5572.0]|[0.24482758620689...|[0.01127054267414...|\n",
      "|         2|     93.7|    157.3|    63.8|     50.8|      2128|        98|     3.03|  3.39|             7.6|       102|   5500|     24|        30| 7957.0|   plymouth|         0.0|           1.0|           0.0|               0.0|           4|(4,[1],[1.0])|(7,[4],[1.0])|(6,[0],[1.0])|(27,[13],[1.0])|[93.7,157.3,63.8,...|     [7957.0]|[0.24482758620689...|[0.07047812918921...|\n",
      "+----------+---------+---------+--------+---------+----------+----------+---------+------+----------------+----------+-------+-------+----------+-------+-----------+------------+--------------+--------------+------------------+------------+-------------+-------------+-------------+---------------+--------------------+-------------+--------------------+--------------------+\n",
      "only showing top 20 rows\n",
      "\n",
      "+----------+---------+---------+--------+---------+----------+----------+---------+------+----------------+----------+-------+-------+----------+-------+----------+------------+--------------+--------------+------------------+------------+-------------+-------------+-------------+---------------+--------------------+-------------+--------------------+--------------------+\n",
      "|doornumber|wheelbase|carlength|carwidth|carheight|curbweight|enginesize|boreratio|stroke|compressionratio|horsepower|peakrpm|citympg|highwaympg|  price|     Brand|enc_fueltype|enc_aspiration|enc_drivewheel|enc_enginelocation|cylinder_num|   oh_carbody|oh_fuelsystem|oh_enginetype|       oh_brand|       scale_input_x|scale_input_y|      scaled_feature|       scaled_target|\n",
      "+----------+---------+---------+--------+---------+----------+----------+---------+------+----------------+----------+-------+-------+----------+-------+----------+------------+--------------+--------------+------------------+------------+-------------+-------------+-------------+---------------+--------------------+-------------+--------------------+--------------------+\n",
      "|         2|     86.6|    144.6|    63.9|     50.8|      1819|        92|     2.91|  3.41|             9.2|        76|   6000|     31|        38| 6855.0|     honda|         0.0|           0.0|           0.0|               0.0|           4|(4,[1],[1.0])|(7,[3],[1.0])|(6,[0],[1.0])| (27,[3],[1.0])|[86.6,144.6,63.9,...|     [6855.0]|[0.0,0.0569105691...|[0.04312099697135...|\n",
      "|         2|     93.1|    159.1|    64.2|     54.1|      1890|        91|     3.03|  3.15|             9.0|        68|   5000|     30|        31| 5195.0|     maxda|         0.0|           0.0|           0.0|               0.0|           4|(4,[1],[1.0])|(7,[1],[1.0])|(6,[0],[1.0])|(27,[20],[1.0])|[93.1,159.1,64.2,...|     [5195.0]|[0.22413793103448...|[0.00191152375750...|\n",
      "|         2|     93.1|    159.1|    64.2|     54.1|      1900|        91|     3.03|  3.15|             9.0|        68|   5000|     31|        38| 6095.0|     maxda|         0.0|           0.0|           0.0|               0.0|           4|(4,[1],[1.0])|(7,[1],[1.0])|(6,[0],[1.0])|(27,[20],[1.0])|[93.1,159.1,64.2,...|     [6095.0]|[0.22413793103448...| [0.024254009234894]|\n",
      "|         2|     93.7|    150.0|    64.0|     52.6|      1837|        79|     2.91|  3.07|            10.1|        60|   5500|     38|        42| 5399.0|     honda|         0.0|           0.0|           0.0|               0.0|           4|(4,[1],[1.0])|(7,[3],[1.0])|(6,[0],[1.0])| (27,[3],[1.0])|[93.7,150.0,64.0,...|     [5399.0]|[0.24482758620689...|[0.00697582046571...|\n",
      "|         2|     93.7|    157.3|    63.8|     50.8|      2128|        98|     3.03|  3.39|             7.6|       102|   5500|     24|        30| 7957.0|     dodge|         0.0|           1.0|           0.0|               0.0|           4|(4,[1],[1.0])|(7,[0],[1.0])|(6,[0],[1.0])| (27,[8],[1.0])|[93.7,157.3,63.8,...|     [7957.0]|[0.24482758620689...|[0.07047812918921...|\n",
      "|         2|     94.5|    155.9|    63.6|     52.0|      1874|        90|     3.03|  3.11|             9.6|        70|   5400|     38|        43| 8916.5|     isuzu|         0.0|           0.0|           0.0|               0.0|           4|(4,[0],[1.0])|(7,[1],[1.0])|(6,[0],[1.0])|(27,[15],[1.0])|[94.5,155.9,63.6,...|     [8916.5]|[0.27241379310344...|[0.09429770120649...|\n",
      "|         2|     94.5|    168.7|    64.0|     52.6|      2265|        98|     3.24|  3.08|             9.4|       112|   6600|     26|        29| 9298.0|    toyota|         0.0|           0.0|           1.0|               0.0|           4|(4,[0],[1.0])|(7,[0],[1.0])|(6,[3],[1.0])| (27,[0],[1.0])|[94.5,168.7,64.0,...|     [9298.0]|[0.27241379310344...|[0.10376843255051...|\n",
      "|         2|     94.5|    168.7|    64.0|     52.6|      2300|        98|     3.24|  3.08|             9.4|       112|   6600|     26|        29| 9538.0|    toyota|         0.0|           0.0|           1.0|               0.0|           4|(4,[1],[1.0])|(7,[0],[1.0])|(6,[3],[1.0])| (27,[0],[1.0])|[94.5,168.7,64.0,...|     [9538.0]|[0.27241379310344...|[0.10972642867782...|\n",
      "|         2|     95.7|    158.7|    63.6|     54.5|      1985|        92|     3.05|  3.03|             9.0|        62|   4800|     35|        39| 5348.0|    toyota|         0.0|           0.0|           0.0|               0.0|           4|(4,[1],[1.0])|(7,[1],[1.0])|(6,[0],[1.0])| (27,[0],[1.0])|[95.7,158.7,63.6,...|     [5348.0]|[0.31379310344827...|[0.00570974628866...|\n",
      "|         2|     95.9|    173.2|    66.3|     50.2|      2926|       156|     3.59|  3.86|             7.0|       145|   5000|     19|        24|14489.0|mitsubishi|         0.0|           1.0|           0.0|               0.0|           4|(4,[1],[1.0])|(7,[4],[1.0])|(6,[0],[1.0])| (27,[4],[1.0])|[95.9,173.2,66.3,...|    [14489.0]|[0.32068965517241...|[0.23263492378729...|\n",
      "|         2|     96.0|    172.6|    65.2|     51.4|      2734|       119|     3.43|  3.23|             9.2|        90|   5000|     24|        29|11048.0|     isuzu|         0.0|           0.0|           1.0|               0.0|           4|(4,[1],[1.0])|    (7,[],[])|(6,[0],[1.0])|(27,[15],[1.0])|[96.0,172.6,65.2,...|    [11048.0]|[0.32413793103448...|[0.1472121543120997]|\n",
      "|         2|     96.1|    176.8|    66.6|     50.5|      2460|       132|     3.46|   3.9|             8.7|        90|   5100|     23|        31| 9895.0|   renault|         0.0|           0.0|           0.0|               0.0|           4|(4,[1],[1.0])|(7,[0],[1.0])|(6,[0],[1.0])|(27,[21],[1.0])|[96.1,176.8,66.6,...|     [9895.0]|[0.32758620689655...|[0.11858894791718...|\n",
      "|         2|     96.5|    167.5|    65.2|     53.3|      2289|       110|     3.15|  3.58|             9.0|        86|   5800|     27|        33| 9095.0|     honda|         0.0|           0.0|           0.0|               0.0|           4|(4,[1],[1.0])|(7,[3],[1.0])|(6,[0],[1.0])| (27,[3],[1.0])|[96.5,167.5,65.2,...|     [9095.0]|[0.34137931034482...|[0.09872896082617...|\n",
      "|         2|     97.3|    171.7|    65.5|     55.7|      2209|       109|     3.19|   3.4|             9.0|        85|   5250|     27|        34| 7975.0|volkswagen|         0.0|           0.0|           0.0|               0.0|           4|(4,[0],[1.0])|(7,[0],[1.0])|(6,[0],[1.0])| (27,[9],[1.0])|[97.3,171.7,65.5,...|     [7975.0]|[0.36896551724137...|[0.07092497889876...|\n",
      "|         2|     97.3|    171.7|    65.5|     55.7|      2261|        97|     3.01|   3.4|            23.0|        52|   4800|     37|        46| 7775.0| vokswagen|         1.0|           0.0|           0.0|               0.0|           4|(4,[0],[1.0])|(7,[2],[1.0])|(6,[0],[1.0])|     (27,[],[])|[97.3,171.7,65.5,...|     [7775.0]|[0.36896551724137...|[0.06595998212601...|\n",
      "|         2|     98.4|    176.2|    65.6|     52.0|      2540|       146|     3.62|   3.5|             9.3|       116|   4800|     24|        30| 8449.0|    toyota|         0.0|           0.0|           1.0|               0.0|           4|(4,[3],[1.0])|(7,[0],[1.0])|(6,[0],[1.0])| (27,[0],[1.0])|[98.4,176.2,65.6,...|     [8449.0]|[0.40689655172413...|[0.0826920212501862]|\n",
      "|         2|     98.4|    176.2|    65.6|     52.0|      2679|       146|     3.62|   3.5|             9.3|       116|   4800|     24|        30|11199.0|    toyota|         0.0|           0.0|           1.0|               0.0|           4|(4,[3],[1.0])|(7,[0],[1.0])|(6,[0],[1.0])| (27,[0],[1.0])|[98.4,176.2,65.6,...|    [11199.0]|[0.40689655172413...|[0.15096072687552...|\n",
      "|         2|     98.4|    176.2|    65.6|     53.0|      2975|       146|     3.62|   3.5|             9.3|       116|   4800|     24|        30|17669.0|    toyota|         0.0|           0.0|           1.0|               0.0|           4|    (4,[],[])|(7,[0],[1.0])|(6,[0],[1.0])| (27,[0],[1.0])|[98.4,176.2,65.6,...|    [17669.0]|[0.40689655172413...|[0.3115783724740579]|\n",
      "|         2|     99.2|    178.5|    67.9|     49.7|      3139|       181|     3.43|  3.27|             9.0|       160|   5200|     19|        25|18399.0|    nissan|         0.0|           0.0|           1.0|               0.0|           6|(4,[1],[1.0])|(7,[0],[1.0])|(6,[2],[1.0])| (27,[1],[1.0])|[99.2,178.5,67.9,...|    [18399.0]|[0.43448275862068...|[0.32970061069460...|\n",
      "|         2|    101.2|    176.8|    64.8|     54.3|      2710|       164|     3.31|  3.19|             9.0|       121|   4250|     21|        28|20970.0|       bmw|         0.0|           0.0|           1.0|               0.0|           6|(4,[0],[1.0])|(7,[0],[1.0])|(6,[0],[1.0])|(27,[10],[1.0])|[101.2,176.8,64.8...|    [20970.0]|[0.50344827586206...|[0.3935256442083313]|\n",
      "+----------+---------+---------+--------+---------+----------+----------+---------+------+----------------+----------+-------+-------+----------+-------+----------+------------+--------------+--------------+------------------+------------+-------------+-------------+-------------+---------------+--------------------+-------------+--------------------+--------------------+\n",
      "only showing top 20 rows\n",
      "\n"
     ]
    }
   ],
   "source": [
    "train,test=df.randomSplit([0.8,0.2])\n",
    "\n",
    "scaler_x=MinMaxScaler(inputCol='scale_input_x',outputCol='scaled_feature')\n",
    "scaler_y=MinMaxScaler(inputCol='scale_input_y',outputCol='scaled_target')\n",
    "\n",
    "scaler_x=scaler_x.fit(train)\n",
    "scaler_y=scaler_y.fit(train)\n",
    "train=scaler_x.transform(train)\n",
    "train=scaler_y.transform(train)\n",
    "\n",
    "test=scaler_x.transform(test)\n",
    "test=scaler_y.transform(test)\n",
    "\n",
    "train.show()\n",
    "test.show()"
   ]
  },
  {
   "cell_type": "markdown",
   "id": "b5f68250",
   "metadata": {},
   "source": [
    "# Assembling all features for training"
   ]
  },
  {
   "cell_type": "code",
   "execution_count": 17,
   "id": "aa630ce3",
   "metadata": {},
   "outputs": [
    {
     "name": "stdout",
     "output_type": "stream",
     "text": [
      "+----------+---------+---------+--------+---------+----------+----------+---------+------+----------------+----------+-------+-------+----------+-------+-----------+------------+--------------+--------------+------------------+------------+-------------+-------------+-------------+---------------+--------------------+-------------+--------------------+--------------------+--------------------+\n",
      "|doornumber|wheelbase|carlength|carwidth|carheight|curbweight|enginesize|boreratio|stroke|compressionratio|horsepower|peakrpm|citympg|highwaympg|  price|      Brand|enc_fueltype|enc_aspiration|enc_drivewheel|enc_enginelocation|cylinder_num|   oh_carbody|oh_fuelsystem|oh_enginetype|       oh_brand|       scale_input_x|scale_input_y|      scaled_feature|       scaled_target|         feature_inp|\n",
      "+----------+---------+---------+--------+---------+----------+----------+---------+------+----------------+----------+-------+-------+----------+-------+-----------+------------+--------------+--------------+------------------+------------+-------------+-------------+-------------+---------------+--------------------+-------------+--------------------+--------------------+--------------------+\n",
      "|         2|     86.6|    144.6|    63.9|     50.8|      1713|        92|     2.91|  3.41|             9.6|        58|   4800|     49|        54| 6479.0|      honda|         0.0|           0.0|           0.0|               0.0|           4|(4,[1],[1.0])|(7,[3],[1.0])|(6,[0],[1.0])| (27,[3],[1.0])|[86.6,144.6,63.9,...|     [6479.0]|[0.0,0.0569105691...|[0.03378680303857...|(63,[1,2,3,4,5,6,...|\n",
      "|         2|     88.4|    141.1|    60.3|     53.2|      1488|        61|     2.91|  3.03|             9.5|        48|   5100|     47|        53| 5151.0|  chevrolet|         0.0|           0.0|           0.0|               0.0|           3|(4,[1],[1.0])|(7,[1],[1.0])|(6,[4],[1.0])|(27,[18],[1.0])|[88.4,141.1,60.3,...|     [5151.0]|[0.06206896551724...|[8.19224467504096...|(63,[0,3,6,7,8,10...|\n",
      "|         2|     88.6|    168.8|    64.1|     48.8|      2548|       130|     3.47|  2.68|             9.0|       111|   5000|     21|        27|13495.0|alfa-romero|         0.0|           0.0|           1.0|               0.0|           4|    (4,[],[])|(7,[0],[1.0])|(6,[3],[1.0])|(27,[17],[1.0])|[88.6,168.8,64.1,...|    [13495.0]|[0.06896551724137...|[0.20795888982672...|(63,[0,1,2,3,4,5,...|\n",
      "|         2|     88.6|    168.8|    64.1|     48.8|      2548|       130|     3.47|  2.68|             9.0|       111|   5000|     21|        27|16500.0|alfa-romero|         0.0|           0.0|           1.0|               0.0|           4|    (4,[],[])|(7,[0],[1.0])|(6,[3],[1.0])|(27,[17],[1.0])|[88.6,168.8,64.1,...|    [16500.0]|[0.06896551724137...|[0.2825579663373219]|(63,[0,1,2,3,4,5,...|\n",
      "|         2|     89.5|    168.9|    65.0|     51.6|      2756|       194|     3.74|   2.9|             9.5|       207|   5900|     17|        25|32528.0|   porcshce|         0.0|           0.0|           1.0|               1.0|           6|(4,[3],[1.0])|(7,[0],[1.0])|(6,[1],[1.0])|(27,[25],[1.0])|[89.5,168.9,65.0,...|    [32528.0]|[0.10000000000000...|[0.6804528077056751]|(63,[0,1,2,3,4,5,...|\n",
      "|         2|     89.5|    168.9|    65.0|     51.6|      2756|       194|     3.74|   2.9|             9.5|       207|   5900|     17|        25|34028.0|    porsche|         0.0|           0.0|           1.0|               1.0|           6|(4,[3],[1.0])|(7,[0],[1.0])|(6,[1],[1.0])|(27,[16],[1.0])|[89.5,168.9,65.0,...|    [34028.0]|[0.10000000000000...|[0.7176902835013158]|(63,[0,1,2,3,4,5,...|\n",
      "|         2|     89.5|    168.9|    65.0|     51.6|      2800|       194|     3.74|   2.9|             9.5|       207|   5900|     17|        25|37028.0|    porsche|         0.0|           0.0|           1.0|               1.0|           6|    (4,[],[])|(7,[0],[1.0])|(6,[1],[1.0])|(27,[16],[1.0])|[89.5,168.9,65.0,...|    [37028.0]|[0.10000000000000...|[0.7921652350925972]|(63,[0,1,2,3,4,5,...|\n",
      "|         2|     91.3|    170.7|    67.9|     49.7|      3071|       181|     3.43|  3.27|             9.0|       160|   5200|     19|        25|17199.0|     nissan|         0.0|           0.0|           1.0|               0.0|           6|(4,[1],[1.0])|(7,[0],[1.0])|(6,[2],[1.0])| (27,[1],[1.0])|[91.3,170.7,67.9,...|    [17199.0]|[0.16206896551724...|[0.2999106300580905]|(63,[0,1,2,3,4,5,...|\n",
      "|         2|     91.3|    170.7|    67.9|     49.7|      3139|       181|     3.43|  3.27|             7.8|       200|   5200|     17|        23|19699.0|     nissan|         0.0|           1.0|           1.0|               0.0|           6|(4,[1],[1.0])|(7,[0],[1.0])|(6,[2],[1.0])| (27,[1],[1.0])|[91.3,170.7,67.9,...|    [19699.0]|[0.16206896551724...|[0.3619730897174917]|(63,[0,1,2,3,4,5,...|\n",
      "|         2|     93.0|    157.3|    63.8|     50.8|      2145|        98|     3.03|  3.39|             7.6|       102|   5500|     24|        30| 7689.0| mitsubishi|         0.0|           1.0|           0.0|               0.0|           4|(4,[1],[1.0])|(7,[4],[1.0])|(6,[0],[1.0])| (27,[4],[1.0])|[93.0,157.3,63.8,...|     [7689.0]|[0.22068965517241...|[0.06382503351372...|(63,[0,1,2,3,4,5,...|\n",
      "|         2|     93.1|    159.1|    64.2|     54.1|      1905|        91|     3.03|  3.15|             9.0|        68|   5000|     31|        38| 6795.0|      mazda|         0.0|           0.0|           0.0|               0.0|           4|(4,[1],[1.0])|(7,[1],[1.0])|(6,[0],[1.0])| (27,[2],[1.0])|[93.1,159.1,64.2,...|     [6795.0]|[0.22413793103448...|[0.04163149793952...|(63,[0,1,2,3,4,5,...|\n",
      "|         2|     93.3|    157.3|    63.8|     55.7|      2240|       108|     3.62|  2.64|             8.7|        73|   4400|     26|        31| 7603.0|     subaru|         0.0|           0.0|           2.0|               0.0|           4|(4,[1],[1.0])|(7,[1],[1.0])|(6,[1],[1.0])| (27,[5],[1.0])|[93.3,157.3,63.8,...|     [7603.0]|[0.23103448275862...|[0.06169008490144...|(63,[0,1,2,3,4,5,...|\n",
      "|         2|     93.7|    150.0|    64.0|     52.6|      1940|        92|     2.91|  3.41|             9.2|        76|   6000|     30|        34| 6529.0|      honda|         0.0|           0.0|           0.0|               0.0|           4|(4,[1],[1.0])|(7,[3],[1.0])|(6,[0],[1.0])| (27,[3],[1.0])|[93.7,150.0,64.0,...|     [6529.0]|[0.24482758620689...|[0.03502805223176...|(63,[0,1,2,3,4,5,...|\n",
      "|         2|     93.7|    150.0|    64.0|     52.6|      1956|        92|     2.91|  3.41|             9.2|        76|   6000|     30|        34| 7129.0|      honda|         0.0|           0.0|           0.0|               0.0|           4|(4,[1],[1.0])|(7,[3],[1.0])|(6,[0],[1.0])| (27,[3],[1.0])|[93.7,150.0,64.0,...|     [7129.0]|[0.24482758620689...|[0.04992304255002...|(63,[0,1,2,3,4,5,...|\n",
      "|         2|     93.7|    156.9|    63.4|     53.7|      2050|        97|     3.62|  2.36|             9.0|        69|   4900|     31|        36| 5118.0|     subaru|         0.0|           0.0|           0.0|               0.0|           4|(4,[1],[1.0])|(7,[1],[1.0])|(6,[1],[1.0])| (27,[5],[1.0])|[93.7,156.9,63.4,...|     [5118.0]|[0.24482758620689...|               [0.0]|(63,[0,1,2,3,4,5,...|\n",
      "|         2|     93.7|    157.3|    63.8|     50.6|      2191|        98|     3.03|  3.39|             7.6|       102|   5500|     24|        30| 8558.0|      dodge|         0.0|           1.0|           0.0|               0.0|           4|(4,[0],[1.0])|(7,[0],[1.0])|(6,[0],[1.0])| (27,[8],[1.0])|[93.7,157.3,63.8,...|     [8558.0]|[0.24482758620689...|[0.08539794449133...|(63,[0,1,2,3,4,5,...|\n",
      "|         2|     93.7|    157.3|    63.8|     50.8|      1876|        90|     2.97|  3.23|             9.4|        68|   5500|     31|        38| 6377.0|      dodge|         0.0|           0.0|           0.0|               0.0|           4|(4,[1],[1.0])|(7,[1],[1.0])|(6,[0],[1.0])| (27,[8],[1.0])|[93.7,157.3,63.8,...|     [6377.0]|[0.24482758620689...|[0.03125465468447...|(63,[0,1,2,3,4,5,...|\n",
      "|         2|     93.7|    157.3|    63.8|     50.8|      1876|        90|     2.97|  3.23|            9.41|        68|   5500|     37|        41| 5572.0|      dodge|         0.0|           0.0|           0.0|               0.0|           4|(4,[1],[1.0])|(7,[1],[1.0])|(6,[0],[1.0])| (27,[8],[1.0])|[93.7,157.3,63.8,...|     [5572.0]|[0.24482758620689...|[0.01127054267414...|(63,[0,1,2,3,4,5,...|\n",
      "|         2|     93.7|    157.3|    63.8|     50.8|      1918|        90|     2.97|  3.23|             9.4|        68|   5500|     37|        41| 5572.0|   plymouth|         0.0|           0.0|           0.0|               0.0|           4|(4,[1],[1.0])|(7,[1],[1.0])|(6,[0],[1.0])|(27,[13],[1.0])|[93.7,157.3,63.8,...|     [5572.0]|[0.24482758620689...|[0.01127054267414...|(63,[0,1,2,3,4,5,...|\n",
      "|         2|     93.7|    157.3|    63.8|     50.8|      2128|        98|     3.03|  3.39|             7.6|       102|   5500|     24|        30| 7957.0|   plymouth|         0.0|           1.0|           0.0|               0.0|           4|(4,[1],[1.0])|(7,[4],[1.0])|(6,[0],[1.0])|(27,[13],[1.0])|[93.7,157.3,63.8,...|     [7957.0]|[0.24482758620689...|[0.07047812918921...|(63,[0,1,2,3,4,5,...|\n",
      "+----------+---------+---------+--------+---------+----------+----------+---------+------+----------------+----------+-------+-------+----------+-------+-----------+------------+--------------+--------------+------------------+------------+-------------+-------------+-------------+---------------+--------------------+-------------+--------------------+--------------------+--------------------+\n",
      "only showing top 20 rows\n",
      "\n",
      "+----------+---------+---------+--------+---------+----------+----------+---------+------+----------------+----------+-------+-------+----------+-------+----------+------------+--------------+--------------+------------------+------------+-------------+-------------+-------------+---------------+--------------------+-------------+--------------------+--------------------+--------------------+\n",
      "|doornumber|wheelbase|carlength|carwidth|carheight|curbweight|enginesize|boreratio|stroke|compressionratio|horsepower|peakrpm|citympg|highwaympg|  price|     Brand|enc_fueltype|enc_aspiration|enc_drivewheel|enc_enginelocation|cylinder_num|   oh_carbody|oh_fuelsystem|oh_enginetype|       oh_brand|       scale_input_x|scale_input_y|      scaled_feature|       scaled_target|         feature_inp|\n",
      "+----------+---------+---------+--------+---------+----------+----------+---------+------+----------------+----------+-------+-------+----------+-------+----------+------------+--------------+--------------+------------------+------------+-------------+-------------+-------------+---------------+--------------------+-------------+--------------------+--------------------+--------------------+\n",
      "|         2|     86.6|    144.6|    63.9|     50.8|      1819|        92|     2.91|  3.41|             9.2|        76|   6000|     31|        38| 6855.0|     honda|         0.0|           0.0|           0.0|               0.0|           4|(4,[1],[1.0])|(7,[3],[1.0])|(6,[0],[1.0])| (27,[3],[1.0])|[86.6,144.6,63.9,...|     [6855.0]|[0.0,0.0569105691...|[0.04312099697135...|(63,[1,2,3,4,5,6,...|\n",
      "|         2|     93.1|    159.1|    64.2|     54.1|      1890|        91|     3.03|  3.15|             9.0|        68|   5000|     30|        31| 5195.0|     maxda|         0.0|           0.0|           0.0|               0.0|           4|(4,[1],[1.0])|(7,[1],[1.0])|(6,[0],[1.0])|(27,[20],[1.0])|[93.1,159.1,64.2,...|     [5195.0]|[0.22413793103448...|[0.00191152375750...|(63,[0,1,2,3,4,5,...|\n",
      "|         2|     93.1|    159.1|    64.2|     54.1|      1900|        91|     3.03|  3.15|             9.0|        68|   5000|     31|        38| 6095.0|     maxda|         0.0|           0.0|           0.0|               0.0|           4|(4,[1],[1.0])|(7,[1],[1.0])|(6,[0],[1.0])|(27,[20],[1.0])|[93.1,159.1,64.2,...|     [6095.0]|[0.22413793103448...| [0.024254009234894]|(63,[0,1,2,3,4,5,...|\n",
      "|         2|     93.7|    150.0|    64.0|     52.6|      1837|        79|     2.91|  3.07|            10.1|        60|   5500|     38|        42| 5399.0|     honda|         0.0|           0.0|           0.0|               0.0|           4|(4,[1],[1.0])|(7,[3],[1.0])|(6,[0],[1.0])| (27,[3],[1.0])|[93.7,150.0,64.0,...|     [5399.0]|[0.24482758620689...|[0.00697582046571...|(63,[0,1,2,3,4,5,...|\n",
      "|         2|     93.7|    157.3|    63.8|     50.8|      2128|        98|     3.03|  3.39|             7.6|       102|   5500|     24|        30| 7957.0|     dodge|         0.0|           1.0|           0.0|               0.0|           4|(4,[1],[1.0])|(7,[0],[1.0])|(6,[0],[1.0])| (27,[8],[1.0])|[93.7,157.3,63.8,...|     [7957.0]|[0.24482758620689...|[0.07047812918921...|(63,[0,1,2,3,4,5,...|\n",
      "|         2|     94.5|    155.9|    63.6|     52.0|      1874|        90|     3.03|  3.11|             9.6|        70|   5400|     38|        43| 8916.5|     isuzu|         0.0|           0.0|           0.0|               0.0|           4|(4,[0],[1.0])|(7,[1],[1.0])|(6,[0],[1.0])|(27,[15],[1.0])|[94.5,155.9,63.6,...|     [8916.5]|[0.27241379310344...|[0.09429770120649...|(63,[0,1,2,3,4,5,...|\n",
      "|         2|     94.5|    168.7|    64.0|     52.6|      2265|        98|     3.24|  3.08|             9.4|       112|   6600|     26|        29| 9298.0|    toyota|         0.0|           0.0|           1.0|               0.0|           4|(4,[0],[1.0])|(7,[0],[1.0])|(6,[3],[1.0])| (27,[0],[1.0])|[94.5,168.7,64.0,...|     [9298.0]|[0.27241379310344...|[0.10376843255051...|(63,[0,1,2,3,4,5,...|\n",
      "|         2|     94.5|    168.7|    64.0|     52.6|      2300|        98|     3.24|  3.08|             9.4|       112|   6600|     26|        29| 9538.0|    toyota|         0.0|           0.0|           1.0|               0.0|           4|(4,[1],[1.0])|(7,[0],[1.0])|(6,[3],[1.0])| (27,[0],[1.0])|[94.5,168.7,64.0,...|     [9538.0]|[0.27241379310344...|[0.10972642867782...|(63,[0,1,2,3,4,5,...|\n",
      "|         2|     95.7|    158.7|    63.6|     54.5|      1985|        92|     3.05|  3.03|             9.0|        62|   4800|     35|        39| 5348.0|    toyota|         0.0|           0.0|           0.0|               0.0|           4|(4,[1],[1.0])|(7,[1],[1.0])|(6,[0],[1.0])| (27,[0],[1.0])|[95.7,158.7,63.6,...|     [5348.0]|[0.31379310344827...|[0.00570974628866...|(63,[0,1,2,3,4,5,...|\n",
      "|         2|     95.9|    173.2|    66.3|     50.2|      2926|       156|     3.59|  3.86|             7.0|       145|   5000|     19|        24|14489.0|mitsubishi|         0.0|           1.0|           0.0|               0.0|           4|(4,[1],[1.0])|(7,[4],[1.0])|(6,[0],[1.0])| (27,[4],[1.0])|[95.9,173.2,66.3,...|    [14489.0]|[0.32068965517241...|[0.23263492378729...|(63,[0,1,2,3,4,5,...|\n",
      "|         2|     96.0|    172.6|    65.2|     51.4|      2734|       119|     3.43|  3.23|             9.2|        90|   5000|     24|        29|11048.0|     isuzu|         0.0|           0.0|           1.0|               0.0|           4|(4,[1],[1.0])|    (7,[],[])|(6,[0],[1.0])|(27,[15],[1.0])|[96.0,172.6,65.2,...|    [11048.0]|[0.32413793103448...|[0.1472121543120997]|(63,[0,1,2,3,4,5,...|\n",
      "|         2|     96.1|    176.8|    66.6|     50.5|      2460|       132|     3.46|   3.9|             8.7|        90|   5100|     23|        31| 9895.0|   renault|         0.0|           0.0|           0.0|               0.0|           4|(4,[1],[1.0])|(7,[0],[1.0])|(6,[0],[1.0])|(27,[21],[1.0])|[96.1,176.8,66.6,...|     [9895.0]|[0.32758620689655...|[0.11858894791718...|(63,[0,1,2,3,4,5,...|\n",
      "|         2|     96.5|    167.5|    65.2|     53.3|      2289|       110|     3.15|  3.58|             9.0|        86|   5800|     27|        33| 9095.0|     honda|         0.0|           0.0|           0.0|               0.0|           4|(4,[1],[1.0])|(7,[3],[1.0])|(6,[0],[1.0])| (27,[3],[1.0])|[96.5,167.5,65.2,...|     [9095.0]|[0.34137931034482...|[0.09872896082617...|(63,[0,1,2,3,4,5,...|\n",
      "|         2|     97.3|    171.7|    65.5|     55.7|      2209|       109|     3.19|   3.4|             9.0|        85|   5250|     27|        34| 7975.0|volkswagen|         0.0|           0.0|           0.0|               0.0|           4|(4,[0],[1.0])|(7,[0],[1.0])|(6,[0],[1.0])| (27,[9],[1.0])|[97.3,171.7,65.5,...|     [7975.0]|[0.36896551724137...|[0.07092497889876...|(63,[0,1,2,3,4,5,...|\n",
      "|         2|     97.3|    171.7|    65.5|     55.7|      2261|        97|     3.01|   3.4|            23.0|        52|   4800|     37|        46| 7775.0| vokswagen|         1.0|           0.0|           0.0|               0.0|           4|(4,[0],[1.0])|(7,[2],[1.0])|(6,[0],[1.0])|     (27,[],[])|[97.3,171.7,65.5,...|     [7775.0]|[0.36896551724137...|[0.06595998212601...|(63,[0,1,2,3,4,5,...|\n",
      "|         2|     98.4|    176.2|    65.6|     52.0|      2540|       146|     3.62|   3.5|             9.3|       116|   4800|     24|        30| 8449.0|    toyota|         0.0|           0.0|           1.0|               0.0|           4|(4,[3],[1.0])|(7,[0],[1.0])|(6,[0],[1.0])| (27,[0],[1.0])|[98.4,176.2,65.6,...|     [8449.0]|[0.40689655172413...|[0.0826920212501862]|(63,[0,1,2,3,4,5,...|\n",
      "|         2|     98.4|    176.2|    65.6|     52.0|      2679|       146|     3.62|   3.5|             9.3|       116|   4800|     24|        30|11199.0|    toyota|         0.0|           0.0|           1.0|               0.0|           4|(4,[3],[1.0])|(7,[0],[1.0])|(6,[0],[1.0])| (27,[0],[1.0])|[98.4,176.2,65.6,...|    [11199.0]|[0.40689655172413...|[0.15096072687552...|(63,[0,1,2,3,4,5,...|\n",
      "|         2|     98.4|    176.2|    65.6|     53.0|      2975|       146|     3.62|   3.5|             9.3|       116|   4800|     24|        30|17669.0|    toyota|         0.0|           0.0|           1.0|               0.0|           4|    (4,[],[])|(7,[0],[1.0])|(6,[0],[1.0])| (27,[0],[1.0])|[98.4,176.2,65.6,...|    [17669.0]|[0.40689655172413...|[0.3115783724740579]|(63,[0,1,2,3,4,5,...|\n",
      "|         2|     99.2|    178.5|    67.9|     49.7|      3139|       181|     3.43|  3.27|             9.0|       160|   5200|     19|        25|18399.0|    nissan|         0.0|           0.0|           1.0|               0.0|           6|(4,[1],[1.0])|(7,[0],[1.0])|(6,[2],[1.0])| (27,[1],[1.0])|[99.2,178.5,67.9,...|    [18399.0]|[0.43448275862068...|[0.32970061069460...|(63,[0,1,2,3,4,5,...|\n",
      "|         2|    101.2|    176.8|    64.8|     54.3|      2710|       164|     3.31|  3.19|             9.0|       121|   4250|     21|        28|20970.0|       bmw|         0.0|           0.0|           1.0|               0.0|           6|(4,[0],[1.0])|(7,[0],[1.0])|(6,[0],[1.0])|(27,[10],[1.0])|[101.2,176.8,64.8...|    [20970.0]|[0.50344827586206...|[0.3935256442083313]|(63,[0,1,2,3,4,5,...|\n",
      "+----------+---------+---------+--------+---------+----------+----------+---------+------+----------------+----------+-------+-------+----------+-------+----------+------------+--------------+--------------+------------------+------------+-------------+-------------+-------------+---------------+--------------------+-------------+--------------------+--------------------+--------------------+\n",
      "only showing top 20 rows\n",
      "\n"
     ]
    }
   ],
   "source": [
    "assembler_all=VectorAssembler(inputCols=['scaled_feature','enc_fueltype','enc_aspiration','doornumber',\n",
    "                                     'enc_drivewheel','enc_enginelocation','cylinder_num','oh_carbody',\n",
    "                                     'oh_fuelsystem','oh_enginetype','oh_brand'],outputCol='feature_inp')\n",
    "\n",
    "train=assembler_all.transform(train)\n",
    "test=assembler_all.transform(test)\n",
    "train.show()\n",
    "test.show()"
   ]
  },
  {
   "cell_type": "markdown",
   "id": "574809b4",
   "metadata": {},
   "source": [
    "## Converting Vector target to Single value"
   ]
  },
  {
   "cell_type": "code",
   "execution_count": 18,
   "id": "1d26af65",
   "metadata": {},
   "outputs": [],
   "source": [
    "train=train.withColumn(\"scaled_target\", vector_to_array(\"scaled_target\")[0])\n",
    "test=test.withColumn(\"scaled_target\", vector_to_array(\"scaled_target\")[0])"
   ]
  },
  {
   "cell_type": "markdown",
   "id": "11722dfc",
   "metadata": {},
   "source": [
    "# Linear Regression | Model Evaluation"
   ]
  },
  {
   "cell_type": "code",
   "execution_count": 19,
   "id": "a8833c88",
   "metadata": {},
   "outputs": [
    {
     "name": "stdout",
     "output_type": "stream",
     "text": [
      "MSE is 0.0039520336078594665\n",
      "MAE is 0.03991633247987977\n",
      "R2 score is 0.9076643106053869\n"
     ]
    }
   ],
   "source": [
    "from pyspark.ml.regression import LinearRegression\n",
    "\n",
    "lr = LinearRegression(featuresCol=\"feature_inp\", labelCol=\"scaled_target\")\n",
    "lr_model = lr.fit(train)\n",
    "lr_predictions = lr_model.evaluate(test)\n",
    "\n",
    "print(f'MSE is {lr_predictions.meanSquaredError}')\n",
    "print(f'MAE is {lr_predictions.meanAbsoluteError}')\n",
    "print(f'R2 score is {lr_predictions.r2}')\n"
   ]
  },
  {
   "cell_type": "markdown",
   "id": "01768953",
   "metadata": {},
   "source": [
    "# Decision Tree | Model Evaluation"
   ]
  },
  {
   "cell_type": "code",
   "execution_count": 20,
   "id": "2071c32e",
   "metadata": {},
   "outputs": [
    {
     "name": "stdout",
     "output_type": "stream",
     "text": [
      "R2 score is 0.8871935568874105\n",
      "MAE is 0.045050965239462865\n",
      "MSE is 0.004828196521702145\n"
     ]
    }
   ],
   "source": [
    "#Decision tree regression\n",
    "dt = DecisionTreeRegressor(featuresCol=\"feature_inp\", labelCol=\"scaled_target\")\n",
    "dt_model = dt.fit(train)\n",
    "dt_predictions = dt_model.transform(test)\n",
    "\n",
    "# Evaluate predictions\n",
    "evaluator = RegressionEvaluator(labelCol=\"scaled_target\", predictionCol=\"prediction\")\n",
    "\n",
    "# R2\n",
    "evaluator.setMetricName(\"r2\")\n",
    "r2 = evaluator.evaluate(dt_predictions)\n",
    "print(f'R2 score is {r2}')\n",
    "\n",
    "# MAE\n",
    "evaluator.setMetricName(\"mae\")\n",
    "mae = evaluator.evaluate(dt_predictions)\n",
    "print(f'MAE is {mae}')\n",
    "\n",
    "\n",
    "# MSE\n",
    "evaluator.setMetricName(\"mse\")\n",
    "mse = evaluator.evaluate(dt_predictions)\n",
    "print(f'MSE is {mse}')"
   ]
  },
  {
   "cell_type": "markdown",
   "id": "1f2aa312",
   "metadata": {},
   "source": [
    "# Random Forest | Model Evaluation"
   ]
  },
  {
   "cell_type": "code",
   "execution_count": 21,
   "id": "d46558b1",
   "metadata": {},
   "outputs": [
    {
     "name": "stdout",
     "output_type": "stream",
     "text": [
      "R2 score is 0.9236859358148928\n",
      "MAE is 0.037302723979554316\n",
      "MSE is 0.003266296579245371\n"
     ]
    }
   ],
   "source": [
    "rf = RandomForestRegressor(featuresCol=\"feature_inp\", labelCol=\"scaled_target\", numTrees=100)\n",
    "rf_model = rf.fit(train)\n",
    "rf_predictions = rf_model.transform(test)\n",
    "\n",
    "# R2\n",
    "evaluator.setMetricName(\"r2\")\n",
    "r2 = evaluator.evaluate(rf_predictions)\n",
    "print(f'R2 score is {r2}')\n",
    "\n",
    "# MAE\n",
    "evaluator.setMetricName(\"mae\")\n",
    "mae = evaluator.evaluate(rf_predictions)\n",
    "print(f'MAE is {mae}')\n",
    "\n",
    "\n",
    "# MSE\n",
    "evaluator.setMetricName(\"mse\")\n",
    "mse = evaluator.evaluate(rf_predictions)\n",
    "print(f'MSE is {mse}')\n"
   ]
  },
  {
   "cell_type": "markdown",
   "id": "0b90f422",
   "metadata": {},
   "source": [
    "# XGBoost | Model Evaluation"
   ]
  },
  {
   "cell_type": "code",
   "execution_count": 22,
   "id": "3e9d7c4b",
   "metadata": {},
   "outputs": [
    {
     "name": "stderr",
     "output_type": "stream",
     "text": [
      "2025-05-20 03:24:43,091 INFO XGBoost-PySpark: _fit Running xgboost-3.0.1 on 2 workers with\n",
      "\tbooster params: {'objective': 'reg:squarederror', 'device': 'cpu', 'nthread': 1}\n",
      "\ttrain_call_kwargs_params: {'verbose_eval': True, 'num_boost_round': 100}\n",
      "\tdmatrix_kwargs: {'nthread': 1, 'missing': nan}\n",
      "2025-05-20 03:24:51,665 INFO XGBoost-PySpark: _fit Finished xgboost training!\n"
     ]
    },
    {
     "name": "stdout",
     "output_type": "stream",
     "text": [
      "R2 score is 0.8922181883274196\n",
      "MAE is 0.043787334727436775\n",
      "MSE is 0.00461313869900957\n"
     ]
    }
   ],
   "source": [
    "xgb = SparkXGBRegressor(\n",
    "    label_col=\"scaled_target\",\n",
    "    features_col=\"feature_inp\",\n",
    "    objective='reg:squarederror',\n",
    "    num_workers=2\n",
    ")\n",
    "\n",
    "xgb_model = xgb.fit(train)\n",
    "xgb_predictions = xgb_model.transform(test)\n",
    "\n",
    "# R2\n",
    "evaluator.setMetricName(\"r2\")\n",
    "r2 = evaluator.evaluate(xgb_predictions)\n",
    "print(f'R2 score is {r2}')\n",
    "\n",
    "# MAE\n",
    "evaluator.setMetricName(\"mae\")\n",
    "mae = evaluator.evaluate(xgb_predictions)\n",
    "print(f'MAE is {mae}')\n",
    "\n",
    "\n",
    "# MSE\n",
    "evaluator.setMetricName(\"mse\")\n",
    "mse = evaluator.evaluate(xgb_predictions)\n",
    "print(f'MSE is {mse}')\n"
   ]
  },
  {
   "cell_type": "markdown",
   "id": "737fbeaf",
   "metadata": {},
   "source": [
    "# Demonstration"
   ]
  },
  {
   "cell_type": "code",
   "execution_count": 23,
   "id": "fa364d65",
   "metadata": {},
   "outputs": [
    {
     "name": "stdout",
     "output_type": "stream",
     "text": [
      "+-------------------+-------+\n",
      "|original_prediction|  price|\n",
      "+-------------------+-------+\n",
      "|   6612.58046453164| 6855.0|\n",
      "|    6878.0370984611| 5195.0|\n",
      "|  6540.145158603766| 6095.0|\n",
      "| 6432.5567242140905| 5399.0|\n",
      "|  8710.370188187648| 7957.0|\n",
      "|  6571.848674694544| 8916.5|\n",
      "| 10363.604444796645| 9298.0|\n",
      "| 10489.967325876929| 9538.0|\n",
      "|  6603.491799297301| 5348.0|\n",
      "| 14362.237345493782|14489.0|\n",
      "| 12144.916406508853|11048.0|\n",
      "| 10683.579917673247| 9895.0|\n",
      "|  8485.514835719616| 9095.0|\n",
      "|  9031.594110440648| 7975.0|\n",
      "|   8411.02184577244| 7775.0|\n",
      "|  11118.75162127618| 8449.0|\n",
      "| 12281.397891955923|11199.0|\n",
      "| 12633.778472947735|17669.0|\n",
      "| 16547.565473399904|18399.0|\n",
      "|  17682.26422229837|20970.0|\n",
      "+-------------------+-------+\n",
      "only showing top 20 rows\n",
      "\n"
     ]
    }
   ],
   "source": [
    "# Convert back values to it's original form \n",
    "def inverseTransform(predictions):\n",
    "    min_val = float(scaler_y.originalMin[0])\n",
    "    max_val = float(scaler_y.originalMax[0])\n",
    "    \n",
    "    # Cap the values just for safety\n",
    "    predictions = predictions.withColumn(\n",
    "        \"prediction\",\n",
    "        when(col(\"prediction\") < 0, 0)\n",
    "        .when(col(\"prediction\") > 1, 1)\n",
    "        .otherwise(col(\"prediction\"))\n",
    "        )\n",
    "        \n",
    "\n",
    "    def inverse_min_max(scaled_val):\n",
    "        return scaled_val * (max_val - min_val) + min_val\n",
    "\n",
    "    inverse_udf = udf(inverse_min_max, DoubleType())\n",
    "\n",
    "    predictions = predictions.withColumn(\"original_prediction\", inverse_udf(col(\"prediction\")))\n",
    "    return predictions.select(['original_prediction','price'])\n",
    "\n",
    "og_pred=inverseTransform(rf_predictions)\n",
    "og_pred.show()\n"
   ]
  },
  {
   "cell_type": "code",
   "execution_count": 24,
   "id": "d74c6a4d",
   "metadata": {},
   "outputs": [
    {
     "data": {
      "text/plain": [
       "['doornumber',\n",
       " 'wheelbase',\n",
       " 'carlength',\n",
       " 'carwidth',\n",
       " 'carheight',\n",
       " 'curbweight',\n",
       " 'enginesize',\n",
       " 'boreratio',\n",
       " 'stroke',\n",
       " 'compressionratio',\n",
       " 'horsepower',\n",
       " 'peakrpm',\n",
       " 'citympg',\n",
       " 'highwaympg',\n",
       " 'price',\n",
       " 'Brand',\n",
       " 'enc_fueltype',\n",
       " 'enc_aspiration',\n",
       " 'enc_drivewheel',\n",
       " 'enc_enginelocation',\n",
       " 'cylinder_num',\n",
       " 'oh_carbody',\n",
       " 'oh_fuelsystem',\n",
       " 'oh_enginetype',\n",
       " 'oh_brand',\n",
       " 'scale_input_x',\n",
       " 'scale_input_y']"
      ]
     },
     "execution_count": 24,
     "metadata": {},
     "output_type": "execute_result"
    }
   ],
   "source": [
    "df.columns"
   ]
  },
  {
   "cell_type": "code",
   "execution_count": 25,
   "id": "02ec0fb0",
   "metadata": {},
   "outputs": [
    {
     "data": {
      "text/plain": [
       "14352.477385314138"
      ]
     },
     "execution_count": 25,
     "metadata": {},
     "output_type": "execute_result"
    }
   ],
   "source": [
    "def predict(data):\n",
    "    inp_df=spark.createDataFrame([data])\n",
    "    inp_df=string_idxr.transform(inp_df)\n",
    "    inp_df=oh_encoder.transform(inp_df)\n",
    "    inp_df=inp_df.drop('fueltype','aspiration','carbody',\n",
    "          'drivewheel','enginelocation','enginetype','cylindernumber',\n",
    "          'CarName','symboling','car_ID','fuelsystem',\n",
    "          'enc_carbody','enc_fuelsystem','enc_enginetype','enc_brand')\n",
    "    \n",
    "    inp_df=assembler_x.transform(inp_df)\n",
    "    \n",
    "    inp_df=scaler_x.transform(inp_df)\n",
    "    inp_df=assembler_all.transform(inp_df)\n",
    "    prediction = rf_model.transform(inp_df).select('prediction').collect()[0][0]\n",
    "    if prediction<0:\n",
    "          prediction=0\n",
    "    elif prediction>1:\n",
    "          prediction=1      \n",
    "    min_val = float(scaler_y.originalMin[0])\n",
    "    max_val = float(scaler_y.originalMax[0])\n",
    "    prediction=prediction * (max_val - min_val) + min_val\n",
    "    return prediction\n",
    "\n",
    "data={'wheelbase':88.6,'carlength':168.8,'carwidth':64.1,'carheight':48.8,'curbweight':2548,'enginesize':130,\n",
    "      'boreratio':3.47,'stroke':2.68,'compressionratio':9.0,'horsepower':111,'peakrpm':5000,'citympg':21,\n",
    "      'highwaympg':27,'cylinder_num':4,'Brand':'alfa-romero','fueltype':'gas','aspiration':'std',\n",
    "      'doornumber':2,'drivewheel':'rwd','enginelocation':'front','carbody':'convertible','fuelsystem':'mpfi',\n",
    "      'enginetype':'dohc'}  \n",
    "\n",
    "predict(data)  "
   ]
  },
  {
   "cell_type": "code",
   "execution_count": 26,
   "id": "4f24d3ee",
   "metadata": {},
   "outputs": [
    {
     "ename": "Py4JJavaError",
     "evalue": "An error occurred while calling o1476.save.\n: java.lang.RuntimeException: java.io.FileNotFoundException: java.io.FileNotFoundException: HADOOP_HOME and hadoop.home.dir are unset. -see https://wiki.apache.org/hadoop/WindowsProblems\r\n\tat org.apache.hadoop.util.Shell.getWinUtilsPath(Shell.java:735)\r\n\tat org.apache.hadoop.util.Shell.getSetPermissionCommand(Shell.java:270)\r\n\tat org.apache.hadoop.util.Shell.getSetPermissionCommand(Shell.java:286)\r\n\tat org.apache.hadoop.fs.RawLocalFileSystem.setPermission(RawLocalFileSystem.java:978)\r\n\tat org.apache.hadoop.fs.RawLocalFileSystem.mkOneDirWithMode(RawLocalFileSystem.java:660)\r\n\tat org.apache.hadoop.fs.RawLocalFileSystem.mkdirsWithOptionalPermission(RawLocalFileSystem.java:700)\r\n\tat org.apache.hadoop.fs.RawLocalFileSystem.mkdirs(RawLocalFileSystem.java:672)\r\n\tat org.apache.hadoop.fs.RawLocalFileSystem.mkdirsWithOptionalPermission(RawLocalFileSystem.java:699)\r\n\tat org.apache.hadoop.fs.RawLocalFileSystem.mkdirs(RawLocalFileSystem.java:672)\r\n\tat org.apache.hadoop.fs.RawLocalFileSystem.mkdirsWithOptionalPermission(RawLocalFileSystem.java:699)\r\n\tat org.apache.hadoop.fs.RawLocalFileSystem.mkdirs(RawLocalFileSystem.java:672)\r\n\tat org.apache.hadoop.fs.RawLocalFileSystem.mkdirsWithOptionalPermission(RawLocalFileSystem.java:699)\r\n\tat org.apache.hadoop.fs.RawLocalFileSystem.mkdirs(RawLocalFileSystem.java:672)\r\n\tat org.apache.hadoop.fs.ChecksumFileSystem.mkdirs(ChecksumFileSystem.java:788)\r\n\tat org.apache.hadoop.mapreduce.lib.output.FileOutputCommitter.setupJob(FileOutputCommitter.java:356)\r\n\tat org.apache.hadoop.mapred.FileOutputCommitter.setupJob(FileOutputCommitter.java:131)\r\n\tat org.apache.hadoop.mapred.OutputCommitter.setupJob(OutputCommitter.java:265)\r\n\tat org.apache.spark.internal.io.HadoopMapReduceCommitProtocol.setupJob(HadoopMapReduceCommitProtocol.scala:188)\r\n\tat org.apache.spark.internal.io.SparkHadoopWriter$.write(SparkHadoopWriter.scala:79)\r\n\tat org.apache.spark.rdd.PairRDDFunctions.$anonfun$saveAsHadoopDataset$1(PairRDDFunctions.scala:1091)\r\n\tat scala.runtime.java8.JFunction0$mcV$sp.apply(JFunction0$mcV$sp.java:23)\r\n\tat org.apache.spark.rdd.RDDOperationScope$.withScope(RDDOperationScope.scala:151)\r\n\tat org.apache.spark.rdd.RDDOperationScope$.withScope(RDDOperationScope.scala:112)\r\n\tat org.apache.spark.rdd.RDD.withScope(RDD.scala:410)\r\n\tat org.apache.spark.rdd.PairRDDFunctions.saveAsHadoopDataset(PairRDDFunctions.scala:1089)\r\n\tat org.apache.spark.rdd.PairRDDFunctions.$anonfun$saveAsHadoopFile$4(PairRDDFunctions.scala:1062)\r\n\tat scala.runtime.java8.JFunction0$mcV$sp.apply(JFunction0$mcV$sp.java:23)\r\n\tat org.apache.spark.rdd.RDDOperationScope$.withScope(RDDOperationScope.scala:151)\r\n\tat org.apache.spark.rdd.RDDOperationScope$.withScope(RDDOperationScope.scala:112)\r\n\tat org.apache.spark.rdd.RDD.withScope(RDD.scala:410)\r\n\tat org.apache.spark.rdd.PairRDDFunctions.saveAsHadoopFile(PairRDDFunctions.scala:1027)\r\n\tat org.apache.spark.rdd.PairRDDFunctions.$anonfun$saveAsHadoopFile$3(PairRDDFunctions.scala:1009)\r\n\tat scala.runtime.java8.JFunction0$mcV$sp.apply(JFunction0$mcV$sp.java:23)\r\n\tat org.apache.spark.rdd.RDDOperationScope$.withScope(RDDOperationScope.scala:151)\r\n\tat org.apache.spark.rdd.RDDOperationScope$.withScope(RDDOperationScope.scala:112)\r\n\tat org.apache.spark.rdd.RDD.withScope(RDD.scala:410)\r\n\tat org.apache.spark.rdd.PairRDDFunctions.saveAsHadoopFile(PairRDDFunctions.scala:1008)\r\n\tat org.apache.spark.rdd.PairRDDFunctions.$anonfun$saveAsHadoopFile$2(PairRDDFunctions.scala:965)\r\n\tat scala.runtime.java8.JFunction0$mcV$sp.apply(JFunction0$mcV$sp.java:23)\r\n\tat org.apache.spark.rdd.RDDOperationScope$.withScope(RDDOperationScope.scala:151)\r\n\tat org.apache.spark.rdd.RDDOperationScope$.withScope(RDDOperationScope.scala:112)\r\n\tat org.apache.spark.rdd.RDD.withScope(RDD.scala:410)\r\n\tat org.apache.spark.rdd.PairRDDFunctions.saveAsHadoopFile(PairRDDFunctions.scala:963)\r\n\tat org.apache.spark.rdd.RDD.$anonfun$saveAsTextFile$2(RDD.scala:1623)\r\n\tat scala.runtime.java8.JFunction0$mcV$sp.apply(JFunction0$mcV$sp.java:23)\r\n\tat org.apache.spark.rdd.RDDOperationScope$.withScope(RDDOperationScope.scala:151)\r\n\tat org.apache.spark.rdd.RDDOperationScope$.withScope(RDDOperationScope.scala:112)\r\n\tat org.apache.spark.rdd.RDD.withScope(RDD.scala:410)\r\n\tat org.apache.spark.rdd.RDD.saveAsTextFile(RDD.scala:1623)\r\n\tat org.apache.spark.rdd.RDD.$anonfun$saveAsTextFile$1(RDD.scala:1609)\r\n\tat scala.runtime.java8.JFunction0$mcV$sp.apply(JFunction0$mcV$sp.java:23)\r\n\tat org.apache.spark.rdd.RDDOperationScope$.withScope(RDDOperationScope.scala:151)\r\n\tat org.apache.spark.rdd.RDDOperationScope$.withScope(RDDOperationScope.scala:112)\r\n\tat org.apache.spark.rdd.RDD.withScope(RDD.scala:410)\r\n\tat org.apache.spark.rdd.RDD.saveAsTextFile(RDD.scala:1609)\r\n\tat org.apache.spark.ml.util.DefaultParamsWriter$.saveMetadata(ReadWrite.scala:413)\r\n\tat org.apache.spark.ml.feature.StringIndexerModel$StringIndexModelWriter.saveImpl(StringIndexer.scala:496)\r\n\tat org.apache.spark.ml.util.MLWriter.save(ReadWrite.scala:168)\r\n\tat sun.reflect.NativeMethodAccessorImpl.invoke0(Native Method)\r\n\tat sun.reflect.NativeMethodAccessorImpl.invoke(NativeMethodAccessorImpl.java:62)\r\n\tat sun.reflect.DelegatingMethodAccessorImpl.invoke(DelegatingMethodAccessorImpl.java:43)\r\n\tat java.lang.reflect.Method.invoke(Method.java:498)\r\n\tat py4j.reflection.MethodInvoker.invoke(MethodInvoker.java:244)\r\n\tat py4j.reflection.ReflectionEngine.invoke(ReflectionEngine.java:374)\r\n\tat py4j.Gateway.invoke(Gateway.java:282)\r\n\tat py4j.commands.AbstractCommand.invokeMethod(AbstractCommand.java:132)\r\n\tat py4j.commands.CallCommand.execute(CallCommand.java:79)\r\n\tat py4j.ClientServerConnection.waitForCommands(ClientServerConnection.java:182)\r\n\tat py4j.ClientServerConnection.run(ClientServerConnection.java:106)\r\n\tat java.lang.Thread.run(Thread.java:750)\r\nCaused by: java.io.FileNotFoundException: java.io.FileNotFoundException: HADOOP_HOME and hadoop.home.dir are unset. -see https://wiki.apache.org/hadoop/WindowsProblems\r\n\tat org.apache.hadoop.util.Shell.fileNotFoundException(Shell.java:547)\r\n\tat org.apache.hadoop.util.Shell.getHadoopHomeDir(Shell.java:568)\r\n\tat org.apache.hadoop.util.Shell.getQualifiedBin(Shell.java:591)\r\n\tat org.apache.hadoop.util.Shell.<clinit>(Shell.java:688)\r\n\tat org.apache.hadoop.util.StringUtils.<clinit>(StringUtils.java:79)\r\n\tat org.apache.hadoop.conf.Configuration.getTimeDurationHelper(Configuration.java:1907)\r\n\tat org.apache.hadoop.conf.Configuration.getTimeDuration(Configuration.java:1867)\r\n\tat org.apache.hadoop.conf.Configuration.getTimeDuration(Configuration.java:1840)\r\n\tat org.apache.hadoop.util.ShutdownHookManager.getShutdownTimeout(ShutdownHookManager.java:183)\r\n\tat org.apache.hadoop.util.ShutdownHookManager$HookEntry.<init>(ShutdownHookManager.java:207)\r\n\tat org.apache.hadoop.util.ShutdownHookManager.addShutdownHook(ShutdownHookManager.java:304)\r\n\tat org.apache.spark.util.SparkShutdownHookManager.install(ShutdownHookManager.scala:181)\r\n\tat org.apache.spark.util.ShutdownHookManager$.shutdownHooks$lzycompute(ShutdownHookManager.scala:50)\r\n\tat org.apache.spark.util.ShutdownHookManager$.shutdownHooks(ShutdownHookManager.scala:48)\r\n\tat org.apache.spark.util.ShutdownHookManager$.addShutdownHook(ShutdownHookManager.scala:153)\r\n\tat org.apache.spark.util.ShutdownHookManager$.<init>(ShutdownHookManager.scala:58)\r\n\tat org.apache.spark.util.ShutdownHookManager$.<clinit>(ShutdownHookManager.scala)\r\n\tat org.apache.spark.util.Utils$.createTempDir(Utils.scala:242)\r\n\tat org.apache.spark.util.SparkFileUtils.createTempDir(SparkFileUtils.scala:103)\r\n\tat org.apache.spark.util.SparkFileUtils.createTempDir$(SparkFileUtils.scala:102)\r\n\tat org.apache.spark.util.Utils$.createTempDir(Utils.scala:94)\r\n\tat org.apache.spark.deploy.SparkSubmit.prepareSubmitEnvironment(SparkSubmit.scala:377)\r\n\tat org.apache.spark.deploy.SparkSubmit.org$apache$spark$deploy$SparkSubmit$$runMain(SparkSubmit.scala:969)\r\n\tat org.apache.spark.deploy.SparkSubmit.doRunMain$1(SparkSubmit.scala:199)\r\n\tat org.apache.spark.deploy.SparkSubmit.submit(SparkSubmit.scala:222)\r\n\tat org.apache.spark.deploy.SparkSubmit.doSubmit(SparkSubmit.scala:91)\r\n\tat org.apache.spark.deploy.SparkSubmit$$anon$2.doSubmit(SparkSubmit.scala:1125)\r\n\tat org.apache.spark.deploy.SparkSubmit$.main(SparkSubmit.scala:1134)\r\n\tat org.apache.spark.deploy.SparkSubmit.main(SparkSubmit.scala)\r\nCaused by: java.io.FileNotFoundException: HADOOP_HOME and hadoop.home.dir are unset.\r\n\tat org.apache.hadoop.util.Shell.checkHadoopHomeInner(Shell.java:467)\r\n\tat org.apache.hadoop.util.Shell.checkHadoopHome(Shell.java:438)\r\n\tat org.apache.hadoop.util.Shell.<clinit>(Shell.java:515)\r\n\t... 25 more\r\n",
     "output_type": "error",
     "traceback": [
      "\u001b[31m---------------------------------------------------------------------------\u001b[39m",
      "\u001b[31mPy4JJavaError\u001b[39m                             Traceback (most recent call last)",
      "\u001b[36mCell\u001b[39m\u001b[36m \u001b[39m\u001b[32mIn[26]\u001b[39m\u001b[32m, line 5\u001b[39m\n\u001b[32m      2\u001b[39m base_path = \u001b[33m\"\u001b[39m\u001b[33mmodels/\u001b[39m\u001b[33m\"\u001b[39m\n\u001b[32m      4\u001b[39m \u001b[38;5;66;03m# Save StringIndexer\u001b[39;00m\n\u001b[32m----> \u001b[39m\u001b[32m5\u001b[39m \u001b[43mstring_idxr\u001b[49m\u001b[43m.\u001b[49m\u001b[43mwrite\u001b[49m\u001b[43m(\u001b[49m\u001b[43m)\u001b[49m\u001b[43m.\u001b[49m\u001b[43moverwrite\u001b[49m\u001b[43m(\u001b[49m\u001b[43m)\u001b[49m\u001b[43m.\u001b[49m\u001b[43msave\u001b[49m\u001b[43m(\u001b[49m\u001b[43mbase_path\u001b[49m\u001b[43m \u001b[49m\u001b[43m+\u001b[49m\u001b[43m \u001b[49m\u001b[33;43m\"\u001b[39;49m\u001b[33;43mstring_idxr\u001b[39;49m\u001b[33;43m\"\u001b[39;49m\u001b[43m)\u001b[49m\n\u001b[32m      7\u001b[39m \u001b[38;5;66;03m# Save OneHotEncoder\u001b[39;00m\n\u001b[32m      8\u001b[39m oh_encoder.write().overwrite().save(base_path + \u001b[33m\"\u001b[39m\u001b[33moh_encoder\u001b[39m\u001b[33m\"\u001b[39m)\n",
      "\u001b[36mFile \u001b[39m\u001b[32mc:\\Users\\afzal\\Jupyter Workspace\\spark_env\\Lib\\site-packages\\pyspark\\ml\\util.py:213\u001b[39m, in \u001b[36mJavaMLWriter.save\u001b[39m\u001b[34m(self, path)\u001b[39m\n\u001b[32m    211\u001b[39m \u001b[38;5;28;01mif\u001b[39;00m \u001b[38;5;129;01mnot\u001b[39;00m \u001b[38;5;28misinstance\u001b[39m(path, \u001b[38;5;28mstr\u001b[39m):\n\u001b[32m    212\u001b[39m     \u001b[38;5;28;01mraise\u001b[39;00m \u001b[38;5;167;01mTypeError\u001b[39;00m(\u001b[33m\"\u001b[39m\u001b[33mpath should be a string, got type \u001b[39m\u001b[38;5;132;01m%s\u001b[39;00m\u001b[33m\"\u001b[39m % \u001b[38;5;28mtype\u001b[39m(path))\n\u001b[32m--> \u001b[39m\u001b[32m213\u001b[39m \u001b[38;5;28;43mself\u001b[39;49m\u001b[43m.\u001b[49m\u001b[43m_jwrite\u001b[49m\u001b[43m.\u001b[49m\u001b[43msave\u001b[49m\u001b[43m(\u001b[49m\u001b[43mpath\u001b[49m\u001b[43m)\u001b[49m\n",
      "\u001b[36mFile \u001b[39m\u001b[32mc:\\Users\\afzal\\Jupyter Workspace\\spark_env\\Lib\\site-packages\\py4j\\java_gateway.py:1322\u001b[39m, in \u001b[36mJavaMember.__call__\u001b[39m\u001b[34m(self, *args)\u001b[39m\n\u001b[32m   1316\u001b[39m command = proto.CALL_COMMAND_NAME +\\\n\u001b[32m   1317\u001b[39m     \u001b[38;5;28mself\u001b[39m.command_header +\\\n\u001b[32m   1318\u001b[39m     args_command +\\\n\u001b[32m   1319\u001b[39m     proto.END_COMMAND_PART\n\u001b[32m   1321\u001b[39m answer = \u001b[38;5;28mself\u001b[39m.gateway_client.send_command(command)\n\u001b[32m-> \u001b[39m\u001b[32m1322\u001b[39m return_value = \u001b[43mget_return_value\u001b[49m\u001b[43m(\u001b[49m\n\u001b[32m   1323\u001b[39m \u001b[43m    \u001b[49m\u001b[43manswer\u001b[49m\u001b[43m,\u001b[49m\u001b[43m \u001b[49m\u001b[38;5;28;43mself\u001b[39;49m\u001b[43m.\u001b[49m\u001b[43mgateway_client\u001b[49m\u001b[43m,\u001b[49m\u001b[43m \u001b[49m\u001b[38;5;28;43mself\u001b[39;49m\u001b[43m.\u001b[49m\u001b[43mtarget_id\u001b[49m\u001b[43m,\u001b[49m\u001b[43m \u001b[49m\u001b[38;5;28;43mself\u001b[39;49m\u001b[43m.\u001b[49m\u001b[43mname\u001b[49m\u001b[43m)\u001b[49m\n\u001b[32m   1325\u001b[39m \u001b[38;5;28;01mfor\u001b[39;00m temp_arg \u001b[38;5;129;01min\u001b[39;00m temp_args:\n\u001b[32m   1326\u001b[39m     \u001b[38;5;28;01mif\u001b[39;00m \u001b[38;5;28mhasattr\u001b[39m(temp_arg, \u001b[33m\"\u001b[39m\u001b[33m_detach\u001b[39m\u001b[33m\"\u001b[39m):\n",
      "\u001b[36mFile \u001b[39m\u001b[32mc:\\Users\\afzal\\Jupyter Workspace\\spark_env\\Lib\\site-packages\\pyspark\\errors\\exceptions\\captured.py:179\u001b[39m, in \u001b[36mcapture_sql_exception.<locals>.deco\u001b[39m\u001b[34m(*a, **kw)\u001b[39m\n\u001b[32m    177\u001b[39m \u001b[38;5;28;01mdef\u001b[39;00m\u001b[38;5;250m \u001b[39m\u001b[34mdeco\u001b[39m(*a: Any, **kw: Any) -> Any:\n\u001b[32m    178\u001b[39m     \u001b[38;5;28;01mtry\u001b[39;00m:\n\u001b[32m--> \u001b[39m\u001b[32m179\u001b[39m         \u001b[38;5;28;01mreturn\u001b[39;00m \u001b[43mf\u001b[49m\u001b[43m(\u001b[49m\u001b[43m*\u001b[49m\u001b[43ma\u001b[49m\u001b[43m,\u001b[49m\u001b[43m \u001b[49m\u001b[43m*\u001b[49m\u001b[43m*\u001b[49m\u001b[43mkw\u001b[49m\u001b[43m)\u001b[49m\n\u001b[32m    180\u001b[39m     \u001b[38;5;28;01mexcept\u001b[39;00m Py4JJavaError \u001b[38;5;28;01mas\u001b[39;00m e:\n\u001b[32m    181\u001b[39m         converted = convert_exception(e.java_exception)\n",
      "\u001b[36mFile \u001b[39m\u001b[32mc:\\Users\\afzal\\Jupyter Workspace\\spark_env\\Lib\\site-packages\\py4j\\protocol.py:326\u001b[39m, in \u001b[36mget_return_value\u001b[39m\u001b[34m(answer, gateway_client, target_id, name)\u001b[39m\n\u001b[32m    324\u001b[39m value = OUTPUT_CONVERTER[\u001b[38;5;28mtype\u001b[39m](answer[\u001b[32m2\u001b[39m:], gateway_client)\n\u001b[32m    325\u001b[39m \u001b[38;5;28;01mif\u001b[39;00m answer[\u001b[32m1\u001b[39m] == REFERENCE_TYPE:\n\u001b[32m--> \u001b[39m\u001b[32m326\u001b[39m     \u001b[38;5;28;01mraise\u001b[39;00m Py4JJavaError(\n\u001b[32m    327\u001b[39m         \u001b[33m\"\u001b[39m\u001b[33mAn error occurred while calling \u001b[39m\u001b[38;5;132;01m{0}\u001b[39;00m\u001b[38;5;132;01m{1}\u001b[39;00m\u001b[38;5;132;01m{2}\u001b[39;00m\u001b[33m.\u001b[39m\u001b[38;5;130;01m\\n\u001b[39;00m\u001b[33m\"\u001b[39m.\n\u001b[32m    328\u001b[39m         \u001b[38;5;28mformat\u001b[39m(target_id, \u001b[33m\"\u001b[39m\u001b[33m.\u001b[39m\u001b[33m\"\u001b[39m, name), value)\n\u001b[32m    329\u001b[39m \u001b[38;5;28;01melse\u001b[39;00m:\n\u001b[32m    330\u001b[39m     \u001b[38;5;28;01mraise\u001b[39;00m Py4JError(\n\u001b[32m    331\u001b[39m         \u001b[33m\"\u001b[39m\u001b[33mAn error occurred while calling \u001b[39m\u001b[38;5;132;01m{0}\u001b[39;00m\u001b[38;5;132;01m{1}\u001b[39;00m\u001b[38;5;132;01m{2}\u001b[39;00m\u001b[33m. Trace:\u001b[39m\u001b[38;5;130;01m\\n\u001b[39;00m\u001b[38;5;132;01m{3}\u001b[39;00m\u001b[38;5;130;01m\\n\u001b[39;00m\u001b[33m\"\u001b[39m.\n\u001b[32m    332\u001b[39m         \u001b[38;5;28mformat\u001b[39m(target_id, \u001b[33m\"\u001b[39m\u001b[33m.\u001b[39m\u001b[33m\"\u001b[39m, name, value))\n",
      "\u001b[31mPy4JJavaError\u001b[39m: An error occurred while calling o1476.save.\n: java.lang.RuntimeException: java.io.FileNotFoundException: java.io.FileNotFoundException: HADOOP_HOME and hadoop.home.dir are unset. -see https://wiki.apache.org/hadoop/WindowsProblems\r\n\tat org.apache.hadoop.util.Shell.getWinUtilsPath(Shell.java:735)\r\n\tat org.apache.hadoop.util.Shell.getSetPermissionCommand(Shell.java:270)\r\n\tat org.apache.hadoop.util.Shell.getSetPermissionCommand(Shell.java:286)\r\n\tat org.apache.hadoop.fs.RawLocalFileSystem.setPermission(RawLocalFileSystem.java:978)\r\n\tat org.apache.hadoop.fs.RawLocalFileSystem.mkOneDirWithMode(RawLocalFileSystem.java:660)\r\n\tat org.apache.hadoop.fs.RawLocalFileSystem.mkdirsWithOptionalPermission(RawLocalFileSystem.java:700)\r\n\tat org.apache.hadoop.fs.RawLocalFileSystem.mkdirs(RawLocalFileSystem.java:672)\r\n\tat org.apache.hadoop.fs.RawLocalFileSystem.mkdirsWithOptionalPermission(RawLocalFileSystem.java:699)\r\n\tat org.apache.hadoop.fs.RawLocalFileSystem.mkdirs(RawLocalFileSystem.java:672)\r\n\tat org.apache.hadoop.fs.RawLocalFileSystem.mkdirsWithOptionalPermission(RawLocalFileSystem.java:699)\r\n\tat org.apache.hadoop.fs.RawLocalFileSystem.mkdirs(RawLocalFileSystem.java:672)\r\n\tat org.apache.hadoop.fs.RawLocalFileSystem.mkdirsWithOptionalPermission(RawLocalFileSystem.java:699)\r\n\tat org.apache.hadoop.fs.RawLocalFileSystem.mkdirs(RawLocalFileSystem.java:672)\r\n\tat org.apache.hadoop.fs.ChecksumFileSystem.mkdirs(ChecksumFileSystem.java:788)\r\n\tat org.apache.hadoop.mapreduce.lib.output.FileOutputCommitter.setupJob(FileOutputCommitter.java:356)\r\n\tat org.apache.hadoop.mapred.FileOutputCommitter.setupJob(FileOutputCommitter.java:131)\r\n\tat org.apache.hadoop.mapred.OutputCommitter.setupJob(OutputCommitter.java:265)\r\n\tat org.apache.spark.internal.io.HadoopMapReduceCommitProtocol.setupJob(HadoopMapReduceCommitProtocol.scala:188)\r\n\tat org.apache.spark.internal.io.SparkHadoopWriter$.write(SparkHadoopWriter.scala:79)\r\n\tat org.apache.spark.rdd.PairRDDFunctions.$anonfun$saveAsHadoopDataset$1(PairRDDFunctions.scala:1091)\r\n\tat scala.runtime.java8.JFunction0$mcV$sp.apply(JFunction0$mcV$sp.java:23)\r\n\tat org.apache.spark.rdd.RDDOperationScope$.withScope(RDDOperationScope.scala:151)\r\n\tat org.apache.spark.rdd.RDDOperationScope$.withScope(RDDOperationScope.scala:112)\r\n\tat org.apache.spark.rdd.RDD.withScope(RDD.scala:410)\r\n\tat org.apache.spark.rdd.PairRDDFunctions.saveAsHadoopDataset(PairRDDFunctions.scala:1089)\r\n\tat org.apache.spark.rdd.PairRDDFunctions.$anonfun$saveAsHadoopFile$4(PairRDDFunctions.scala:1062)\r\n\tat scala.runtime.java8.JFunction0$mcV$sp.apply(JFunction0$mcV$sp.java:23)\r\n\tat org.apache.spark.rdd.RDDOperationScope$.withScope(RDDOperationScope.scala:151)\r\n\tat org.apache.spark.rdd.RDDOperationScope$.withScope(RDDOperationScope.scala:112)\r\n\tat org.apache.spark.rdd.RDD.withScope(RDD.scala:410)\r\n\tat org.apache.spark.rdd.PairRDDFunctions.saveAsHadoopFile(PairRDDFunctions.scala:1027)\r\n\tat org.apache.spark.rdd.PairRDDFunctions.$anonfun$saveAsHadoopFile$3(PairRDDFunctions.scala:1009)\r\n\tat scala.runtime.java8.JFunction0$mcV$sp.apply(JFunction0$mcV$sp.java:23)\r\n\tat org.apache.spark.rdd.RDDOperationScope$.withScope(RDDOperationScope.scala:151)\r\n\tat org.apache.spark.rdd.RDDOperationScope$.withScope(RDDOperationScope.scala:112)\r\n\tat org.apache.spark.rdd.RDD.withScope(RDD.scala:410)\r\n\tat org.apache.spark.rdd.PairRDDFunctions.saveAsHadoopFile(PairRDDFunctions.scala:1008)\r\n\tat org.apache.spark.rdd.PairRDDFunctions.$anonfun$saveAsHadoopFile$2(PairRDDFunctions.scala:965)\r\n\tat scala.runtime.java8.JFunction0$mcV$sp.apply(JFunction0$mcV$sp.java:23)\r\n\tat org.apache.spark.rdd.RDDOperationScope$.withScope(RDDOperationScope.scala:151)\r\n\tat org.apache.spark.rdd.RDDOperationScope$.withScope(RDDOperationScope.scala:112)\r\n\tat org.apache.spark.rdd.RDD.withScope(RDD.scala:410)\r\n\tat org.apache.spark.rdd.PairRDDFunctions.saveAsHadoopFile(PairRDDFunctions.scala:963)\r\n\tat org.apache.spark.rdd.RDD.$anonfun$saveAsTextFile$2(RDD.scala:1623)\r\n\tat scala.runtime.java8.JFunction0$mcV$sp.apply(JFunction0$mcV$sp.java:23)\r\n\tat org.apache.spark.rdd.RDDOperationScope$.withScope(RDDOperationScope.scala:151)\r\n\tat org.apache.spark.rdd.RDDOperationScope$.withScope(RDDOperationScope.scala:112)\r\n\tat org.apache.spark.rdd.RDD.withScope(RDD.scala:410)\r\n\tat org.apache.spark.rdd.RDD.saveAsTextFile(RDD.scala:1623)\r\n\tat org.apache.spark.rdd.RDD.$anonfun$saveAsTextFile$1(RDD.scala:1609)\r\n\tat scala.runtime.java8.JFunction0$mcV$sp.apply(JFunction0$mcV$sp.java:23)\r\n\tat org.apache.spark.rdd.RDDOperationScope$.withScope(RDDOperationScope.scala:151)\r\n\tat org.apache.spark.rdd.RDDOperationScope$.withScope(RDDOperationScope.scala:112)\r\n\tat org.apache.spark.rdd.RDD.withScope(RDD.scala:410)\r\n\tat org.apache.spark.rdd.RDD.saveAsTextFile(RDD.scala:1609)\r\n\tat org.apache.spark.ml.util.DefaultParamsWriter$.saveMetadata(ReadWrite.scala:413)\r\n\tat org.apache.spark.ml.feature.StringIndexerModel$StringIndexModelWriter.saveImpl(StringIndexer.scala:496)\r\n\tat org.apache.spark.ml.util.MLWriter.save(ReadWrite.scala:168)\r\n\tat sun.reflect.NativeMethodAccessorImpl.invoke0(Native Method)\r\n\tat sun.reflect.NativeMethodAccessorImpl.invoke(NativeMethodAccessorImpl.java:62)\r\n\tat sun.reflect.DelegatingMethodAccessorImpl.invoke(DelegatingMethodAccessorImpl.java:43)\r\n\tat java.lang.reflect.Method.invoke(Method.java:498)\r\n\tat py4j.reflection.MethodInvoker.invoke(MethodInvoker.java:244)\r\n\tat py4j.reflection.ReflectionEngine.invoke(ReflectionEngine.java:374)\r\n\tat py4j.Gateway.invoke(Gateway.java:282)\r\n\tat py4j.commands.AbstractCommand.invokeMethod(AbstractCommand.java:132)\r\n\tat py4j.commands.CallCommand.execute(CallCommand.java:79)\r\n\tat py4j.ClientServerConnection.waitForCommands(ClientServerConnection.java:182)\r\n\tat py4j.ClientServerConnection.run(ClientServerConnection.java:106)\r\n\tat java.lang.Thread.run(Thread.java:750)\r\nCaused by: java.io.FileNotFoundException: java.io.FileNotFoundException: HADOOP_HOME and hadoop.home.dir are unset. -see https://wiki.apache.org/hadoop/WindowsProblems\r\n\tat org.apache.hadoop.util.Shell.fileNotFoundException(Shell.java:547)\r\n\tat org.apache.hadoop.util.Shell.getHadoopHomeDir(Shell.java:568)\r\n\tat org.apache.hadoop.util.Shell.getQualifiedBin(Shell.java:591)\r\n\tat org.apache.hadoop.util.Shell.<clinit>(Shell.java:688)\r\n\tat org.apache.hadoop.util.StringUtils.<clinit>(StringUtils.java:79)\r\n\tat org.apache.hadoop.conf.Configuration.getTimeDurationHelper(Configuration.java:1907)\r\n\tat org.apache.hadoop.conf.Configuration.getTimeDuration(Configuration.java:1867)\r\n\tat org.apache.hadoop.conf.Configuration.getTimeDuration(Configuration.java:1840)\r\n\tat org.apache.hadoop.util.ShutdownHookManager.getShutdownTimeout(ShutdownHookManager.java:183)\r\n\tat org.apache.hadoop.util.ShutdownHookManager$HookEntry.<init>(ShutdownHookManager.java:207)\r\n\tat org.apache.hadoop.util.ShutdownHookManager.addShutdownHook(ShutdownHookManager.java:304)\r\n\tat org.apache.spark.util.SparkShutdownHookManager.install(ShutdownHookManager.scala:181)\r\n\tat org.apache.spark.util.ShutdownHookManager$.shutdownHooks$lzycompute(ShutdownHookManager.scala:50)\r\n\tat org.apache.spark.util.ShutdownHookManager$.shutdownHooks(ShutdownHookManager.scala:48)\r\n\tat org.apache.spark.util.ShutdownHookManager$.addShutdownHook(ShutdownHookManager.scala:153)\r\n\tat org.apache.spark.util.ShutdownHookManager$.<init>(ShutdownHookManager.scala:58)\r\n\tat org.apache.spark.util.ShutdownHookManager$.<clinit>(ShutdownHookManager.scala)\r\n\tat org.apache.spark.util.Utils$.createTempDir(Utils.scala:242)\r\n\tat org.apache.spark.util.SparkFileUtils.createTempDir(SparkFileUtils.scala:103)\r\n\tat org.apache.spark.util.SparkFileUtils.createTempDir$(SparkFileUtils.scala:102)\r\n\tat org.apache.spark.util.Utils$.createTempDir(Utils.scala:94)\r\n\tat org.apache.spark.deploy.SparkSubmit.prepareSubmitEnvironment(SparkSubmit.scala:377)\r\n\tat org.apache.spark.deploy.SparkSubmit.org$apache$spark$deploy$SparkSubmit$$runMain(SparkSubmit.scala:969)\r\n\tat org.apache.spark.deploy.SparkSubmit.doRunMain$1(SparkSubmit.scala:199)\r\n\tat org.apache.spark.deploy.SparkSubmit.submit(SparkSubmit.scala:222)\r\n\tat org.apache.spark.deploy.SparkSubmit.doSubmit(SparkSubmit.scala:91)\r\n\tat org.apache.spark.deploy.SparkSubmit$$anon$2.doSubmit(SparkSubmit.scala:1125)\r\n\tat org.apache.spark.deploy.SparkSubmit$.main(SparkSubmit.scala:1134)\r\n\tat org.apache.spark.deploy.SparkSubmit.main(SparkSubmit.scala)\r\nCaused by: java.io.FileNotFoundException: HADOOP_HOME and hadoop.home.dir are unset.\r\n\tat org.apache.hadoop.util.Shell.checkHadoopHomeInner(Shell.java:467)\r\n\tat org.apache.hadoop.util.Shell.checkHadoopHome(Shell.java:438)\r\n\tat org.apache.hadoop.util.Shell.<clinit>(Shell.java:515)\r\n\t... 25 more\r\n"
     ]
    }
   ],
   "source": [
    "# Choose a directory to save each component\n",
    "base_path = \"models/\"\n",
    "\n",
    "# Save StringIndexer\n",
    "string_idxr.write().overwrite().save(base_path + \"string_idxr\")\n",
    "\n",
    "# Save OneHotEncoder\n",
    "oh_encoder.write().overwrite().save(base_path + \"oh_encoder\")\n",
    "\n",
    "# Save Assembler for features\n",
    "assembler_x.write().overwrite().save(base_path + \"assembler_x\")\n",
    "\n",
    "# Save Scalers\n",
    "scaler_x.write().overwrite().save(base_path + \"scaler_x\")\n",
    "scaler_y.write().overwrite().save(base_path + \"scaler_y\")\n",
    "\n",
    "# Save assembler for all features\n",
    "assembler_all.write().overwrite().save(base_path + \"assembler_all\")\n",
    "\n",
    "# Save the model (Random Forest or XGBoost)\n",
    "rf_model.write().overwrite().save(base_path + \"rf_model\")\n"
   ]
  },
  {
   "cell_type": "code",
   "execution_count": null,
   "id": "2b34976e",
   "metadata": {},
   "outputs": [],
   "source": []
  }
 ],
 "metadata": {
  "kernelspec": {
   "display_name": "spark_env",
   "language": "python",
   "name": "python3"
  },
  "language_info": {
   "codemirror_mode": {
    "name": "ipython",
    "version": 3
   },
   "file_extension": ".py",
   "mimetype": "text/x-python",
   "name": "python",
   "nbconvert_exporter": "python",
   "pygments_lexer": "ipython3",
   "version": "3.11.0"
  }
 },
 "nbformat": 4,
 "nbformat_minor": 5
}
